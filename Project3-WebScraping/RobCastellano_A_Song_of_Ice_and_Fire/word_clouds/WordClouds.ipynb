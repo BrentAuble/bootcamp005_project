{
 "cells": [
  {
   "cell_type": "code",
   "execution_count": 2,
   "metadata": {
    "collapsed": true
   },
   "outputs": [],
   "source": [
    "import pandas as pd\n",
    "import numpy as np\n",
    "import matplotlib.pyplot as plt\n",
    "from PIL import Image\n",
    "from wordcloud import WordCloud\n",
    "import random"
   ]
  },
  {
   "cell_type": "code",
   "execution_count": 7,
   "metadata": {
    "collapsed": true
   },
   "outputs": [],
   "source": [
    "#This is all of the scraped data. We will only use the POV\n",
    "# character variable and the summary variable.\n",
    "all_chapters = pd.read_csv('../all_chapters.csv')"
   ]
  },
  {
   "cell_type": "code",
   "execution_count": 3,
   "metadata": {
    "collapsed": false
   },
   "outputs": [],
   "source": [
    "#Create the masks for the wordclouds (this is the shape in which\n",
    "# the wordclouds will appear).\n",
    "#Most stencils courtesy of freestencils.com (noted in image)\n",
    "\n",
    "arya_mask = np.array(Image.open('houses/arya.png'))\n",
    "greyjoy_mask = np.array(Image.open('houses/greyjoy.jpg'))\n",
    "martell_mask = np.array(Image.open('houses/martell.jpg'))\n",
    "stark_mask = np.array(Image.open('houses/stark.jpg'))\n",
    "sword_mask = np.array(Image.open('houses/sword.jpg'))\n",
    "targaryen_mask = np.array(Image.open('houses/targaryen.jpg'))\n",
    "throne_mask = np.array(Image.open('houses/throne.png'))\n",
    "tree_mask = np.array(Image.open('houses/tree.jpg'))\n",
    "tully_mask = np.array(Image.open('houses/tully.jpg'))\n",
    "lannister_mask = np.array(Image.open('houses/lannister.jpg'))"
   ]
  },
  {
   "cell_type": "code",
   "execution_count": 4,
   "metadata": {
    "collapsed": true
   },
   "outputs": [],
   "source": [
    "#Colors\n",
    "#We define these color functions (rather than use a single color)\n",
    "# so that colors of the word cloud vary in the same color, but\n",
    "# random shades--makes it more aeshetically pleasing.\n",
    "\n",
    "#Stark wolf\n",
    "def grey_color_func(word, font_size, position, orientation, random_state=None, **kwargs):\n",
    "    return \"hsl(0, 0%%, %d%%)\" % random.randint(30, 70) \n",
    "\n",
    "#Targaryen red---also used for Martell\n",
    "def red_color_func(word, font_size, position, orientation, random_state=None, **kwargs):\n",
    "    return \"hsl(0, 100%%, %d%%)\" % random.randint(30, 70)\n",
    "\n",
    "\n",
    "#Lannister gold\n",
    "def gold_color_func(word, font_size, position, orientation, random_state=None, **kwargs):\n",
    "    return \"hsl(60, 100%%, %d%%)\" % random.randint(50, 70)\n",
    "\n",
    "#Greyjoy yellow\n",
    "def yellow_color_func(word, font_size, position, orientation, random_state=None, **kwargs):\n",
    "    return \"hsl(60, 100%%, %d%%)\" % random.randint(60, 80)\n",
    "\n",
    "#Martell background (orange) #FFB70F\n",
    "\n",
    "#Forest green\n",
    "def forest_green_color_func(word, font_size, position, orientation, random_state=None, **kwargs):\n",
    "    return \"hsl(100, 100%%, %d%%)\" % random.randint(20, 30)\n",
    "\n",
    "\n",
    "#Tully blue to white\n",
    "def blue_white_color_func(word, font_size, position, orientation, random_state=None, **kwargs):\n",
    "    return \"hsl(240, 100%%, %d%%)\" % random.randint(60, 100)"
   ]
  },
  {
   "cell_type": "code",
   "execution_count": 5,
   "metadata": {
    "collapsed": true
   },
   "outputs": [],
   "source": [
    "def summary(df):\n",
    "    '''Returns a string that is the concatentation of all Summary\n",
    "    elements of a DataFrame df'''\n",
    "    summaries = \"\"\n",
    "    for item in df.Summary:\n",
    "        summaries = summaries + item\n",
    "    return summaries"
   ]
  },
  {
   "cell_type": "code",
   "execution_count": 56,
   "metadata": {
    "collapsed": false,
    "scrolled": true
   },
   "outputs": [],
   "source": [
    "#Make dataframes for certain POV characters\n",
    "arya = all_chapters.loc[all_chapters.POV == \"Arya Stark\",]\n",
    "theon_asha_aeron = all_chapters.loc[np.logical_or(np.logical_or(all_chapters.POV == \"Theon Greyjoy\", \n",
    "                                                                all_chapters.POV == \"Asha Greyjoy\"), \n",
    "                                                              all_chapters.POV == \"Aeron Greyjoy\"),]\n",
    "arianne = all_chapters.loc[all_chapters.POV == \"Arianne Martell\", ]\n",
    "daenerys = all_chapters.loc[all_chapters.POV == \"Daenerys Targaryen\", ]\n",
    "tyrion = all_chapters.loc[all_chapters.POV == \"Tyrion Lannister\", ]\n",
    "bran = all_chapters.loc[all_chapters.POV == \"Brandon Stark\", ]\n",
    "catelyn = all_chapters.loc[all_chapters.POV == \"Catelyn Tully\", ]\n",
    "jon = all_chapters.loc[all_chapters.POV == \"Jon Snow\", ]"
   ]
  },
  {
   "cell_type": "code",
   "execution_count": 43,
   "metadata": {
    "collapsed": false
   },
   "outputs": [
    {
     "data": {
      "text/plain": [
       "<wordcloud.wordcloud.WordCloud at 0x10e36cf90>"
      ]
     },
     "execution_count": 43,
     "metadata": {},
     "output_type": "execute_result"
    }
   ],
   "source": [
    "#Arya chapters--arya mask\n",
    "wc = WordCloud(background_color=\"white\", \n",
    "               mask=arya_mask, \n",
    "               color_func = grey_color_func)\n",
    "wc.generate(summary(arya))\n",
    "wc.to_file('WordClouds/arya.jpg')"
   ]
  },
  {
   "cell_type": "code",
   "execution_count": 44,
   "metadata": {
    "collapsed": false
   },
   "outputs": [
    {
     "data": {
      "text/plain": [
       "<wordcloud.wordcloud.WordCloud at 0x10e3fbbd0>"
      ]
     },
     "execution_count": 44,
     "metadata": {},
     "output_type": "execute_result"
    }
   ],
   "source": [
    "#Theon, Asha, and Aeron chapters--greyjoy mask\n",
    "wc = WordCloud(background_color=\"black\", \n",
    "               mask=greyjoy_mask, \n",
    "               color_func = yellow_color_func)\n",
    "wc.generate(summary(theon_asha_aeron))\n",
    "wc.to_file('WordClouds/theon_asha_aeron_greyjoy.jpg')"
   ]
  },
  {
   "cell_type": "code",
   "execution_count": 45,
   "metadata": {
    "collapsed": false
   },
   "outputs": [
    {
     "data": {
      "text/plain": [
       "<wordcloud.wordcloud.WordCloud at 0x112663250>"
      ]
     },
     "execution_count": 45,
     "metadata": {},
     "output_type": "execute_result"
    }
   ],
   "source": [
    "#Arianne chapters--martell mask\n",
    "wc = WordCloud(background_color=\"#FFB70F\", \n",
    "               mask=martell_mask, \n",
    "               color_func = red_color_func)\n",
    "wc.generate(summary(arianne))\n",
    "wc.to_file('WordClouds/arianne.jpg')"
   ]
  },
  {
   "cell_type": "code",
   "execution_count": 46,
   "metadata": {
    "collapsed": false
   },
   "outputs": [
    {
     "data": {
      "text/plain": [
       "<wordcloud.wordcloud.WordCloud at 0x112663190>"
      ]
     },
     "execution_count": 46,
     "metadata": {},
     "output_type": "execute_result"
    }
   ],
   "source": [
    "#Daenerys chapters--targaryen mask\n",
    "wc = WordCloud(background_color=\"black\", \n",
    "               mask=targaryen_mask, \n",
    "               color_func = red_color_func)\n",
    "wc.generate(summary(daenerys))\n",
    "wc.to_file('WordClouds/daenerys.jpg')"
   ]
  },
  {
   "cell_type": "code",
   "execution_count": 58,
   "metadata": {
    "collapsed": false
   },
   "outputs": [
    {
     "data": {
      "text/plain": [
       "<wordcloud.wordcloud.WordCloud at 0x10e3fbc10>"
      ]
     },
     "execution_count": 58,
     "metadata": {},
     "output_type": "execute_result"
    }
   ],
   "source": [
    "#Tyrion chapters--lannister mask\n",
    "wc = WordCloud(background_color=\"red\", \n",
    "               mask=lannister_mask, \n",
    "               color_func = gold_color_func)\n",
    "wc.generate(summary(tyrion))\n",
    "wc.to_file('WordClouds/tyrion.jpg')"
   ]
  },
  {
   "cell_type": "code",
   "execution_count": 62,
   "metadata": {
    "collapsed": false
   },
   "outputs": [
    {
     "data": {
      "text/plain": [
       "<wordcloud.wordcloud.WordCloud at 0x112663950>"
      ]
     },
     "execution_count": 62,
     "metadata": {},
     "output_type": "execute_result"
    }
   ],
   "source": [
    "#Bran chapters--tree mask\n",
    "wc = WordCloud(background_color=\"black\", \n",
    "               mask=tree_mask, \n",
    "               color_func = forest_green_color_func)\n",
    "wc.generate(summary(bran))\n",
    "wc.to_file('WordClouds/bran_tree.jpg')"
   ]
  },
  {
   "cell_type": "code",
   "execution_count": 54,
   "metadata": {
    "collapsed": false
   },
   "outputs": [
    {
     "data": {
      "text/plain": [
       "<wordcloud.wordcloud.WordCloud at 0x112663f50>"
      ]
     },
     "execution_count": 54,
     "metadata": {},
     "output_type": "execute_result"
    }
   ],
   "source": [
    "#Catelyn chapters--tully mask\n",
    "wc = WordCloud(background_color=\"red\", \n",
    "               mask=tully_mask, \n",
    "               color_func = blue_white_color_func)\n",
    "wc.generate(summary(catelyn))\n",
    "wc.to_file('WordClouds/catelyn.jpg')"
   ]
  },
  {
   "cell_type": "code",
   "execution_count": 59,
   "metadata": {
    "collapsed": false
   },
   "outputs": [
    {
     "data": {
      "text/plain": [
       "<wordcloud.wordcloud.WordCloud at 0x10e3fbf90>"
      ]
     },
     "execution_count": 59,
     "metadata": {},
     "output_type": "execute_result"
    }
   ],
   "source": [
    "#Jon chapters--stark mask\n",
    "wc = WordCloud(background_color=\"white\", \n",
    "               mask=stark_mask, \n",
    "               color_func = grey_color_func)\n",
    "wc.generate(summary(jon))\n",
    "wc.to_file('WordClouds/jon.jpg')"
   ]
  },
  {
   "cell_type": "code",
   "execution_count": 8,
   "metadata": {
    "collapsed": false
   },
   "outputs": [
    {
     "data": {
      "text/plain": [
       "<wordcloud.wordcloud.WordCloud at 0x108a0f650>"
      ]
     },
     "execution_count": 8,
     "metadata": {},
     "output_type": "execute_result"
    }
   ],
   "source": [
    "#All chapter--sword mask\n",
    "wc = WordCloud(background_color=\"yellow\", \n",
    "               mask=sword_mask, \n",
    "               color_func = grey_color_func)\n",
    "wc.generate(summary(all_chapters))\n",
    "wc.to_file('WordClouds/all_summaries_sword.jpg')"
   ]
  },
  {
   "cell_type": "code",
   "execution_count": null,
   "metadata": {
    "collapsed": true
   },
   "outputs": [],
   "source": []
  }
 ],
 "metadata": {
  "kernelspec": {
   "display_name": "Python 2",
   "language": "python",
   "name": "python2"
  },
  "language_info": {
   "codemirror_mode": {
    "name": "ipython",
    "version": 2
   },
   "file_extension": ".py",
   "mimetype": "text/x-python",
   "name": "python",
   "nbconvert_exporter": "python",
   "pygments_lexer": "ipython2",
   "version": "2.7.11"
  }
 },
 "nbformat": 4,
 "nbformat_minor": 0
}
