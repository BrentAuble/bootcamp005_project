{
 "cells": [
  {
   "cell_type": "markdown",
   "metadata": {},
   "source": [
    "#          Yelp review scraping, Sentiment Analysis and NB Prediction\n",
    "This Project first scrapy yelp review data, then we do Sentiment Analysis, prediction using Naive Bayes\n",
    "Frank Lanfa Wang, 5/2016, FrankWanglf@gmail.com"
   ]
  },
  {
   "cell_type": "markdown",
   "metadata": {},
   "source": [
    "### This section is app for Yelp review download "
   ]
  },
  {
   "cell_type": "code",
   "execution_count": 1,
   "metadata": {
    "collapsed": false
   },
   "outputs": [
    {
     "name": "stdout",
     "output_type": "stream",
     "text": [
      "Total reviews=2020\n",
      "Total authors=2020\n",
      "Total ratings=2020\n"
     ]
    }
   ],
   "source": [
    "## Project 3 Web scraping\n",
    "%matplotlib inline\n",
    "import pandas as pd\n",
    "from bs4 import BeautifulSoup\n",
    "from urllib.request import urlopen\n",
    "import re\n",
    "\n",
    "queries = 0\n",
    "tot_reviews=0\n",
    "tot_authors=0\n",
    "tot_ratings=0\n",
    "authors_rev=[]\n",
    "ratings_rev=[]\n",
    "Features=[]\n",
    "\n",
    "f=open(\"summary_auth_rating_tmp.txt\", encoding='utf-8', mode=\"w\")\n",
    "f1=open(\"reviews_tmp.txt\", encoding='utf-8', mode=\"w\")\n",
    "f2=open(\"author_tmp.txt\", encoding='utf-8', mode=\"w\")\n",
    "f3=open(\"rating_tmp.txt\", \"w\")\n",
    "\n",
    "while queries <2020:\n",
    "    stringQ = str(queries)\n",
    "    page =urlopen('http://www.yelp.com/biz/abc-kitchen-new-york?start=' + stringQ)\n",
    "    soup = BeautifulSoup(page,\"lxml\")\n",
    "    reviews = soup.findAll('p', attrs={'itemprop':'description'})\n",
    "    authors = soup.findAll('meta',attrs={'itemprop':'author'})\n",
    "    ratings=  soup.findAll('meta',attrs={'itemprop':'ratingValue'})\n",
    "    flag = True\n",
    "    indexOf = 1\n",
    "    for it,review in enumerate(reviews):\n",
    "        dirtyEntry = str(review)\n",
    "        tot_reviews+=1\n",
    "        while dirtyEntry.index('<') != -1:\n",
    "            indexOf = dirtyEntry.index('<')\n",
    "            endOf = dirtyEntry.index('>')\n",
    "            if flag:\n",
    "                dirtyEntry = dirtyEntry[endOf+1:]\n",
    "                flag = False\n",
    "            else:\n",
    "                if(endOf+1 == len(dirtyEntry)):\n",
    "                    cleanEntry = dirtyEntry[0:indexOf]\n",
    "                    break\n",
    "                else:\n",
    "                    dirtyEntry = dirtyEntry[0:indexOf]+dirtyEntry[endOf+1:]\n",
    "        f1.write(cleanEntry)\n",
    "        f1.write(\"\\n\")\n",
    "        Features.append(cleanEntry)\n",
    "    author_pattern = re.compile(r'\\\"[a-zA-Z. ]\\\" itemprop=')\n",
    "    for author in authors:\n",
    "        tot_authors+=1\n",
    "        dirty = str(author)\n",
    "        closing = dirty.index('=\\\"')\n",
    "        dirty = dirty[closing+2:]\n",
    "        opening = dirty.index('\" ')\n",
    "        cleanEntry = dirty[0:opening]\n",
    "        authors_rev.append(cleanEntry)\n",
    "        f2.write(cleanEntry)\n",
    "        f2.write(\"\\n\")\n",
    "\n",
    "    rating_pattern = re.compile(r'\\d.\\d\\\" itemprop=')\n",
    "    id_rating=0\n",
    "    for rate in ratings:\n",
    "        id_rating+=1\n",
    "        if(id_rating>1):\n",
    "            dirty = str(rate)\n",
    "            tot_ratings+=1\n",
    "            rating=re.findall(rating_pattern,dirty)\n",
    "            rating=float(rating[0][0:3])\n",
    "            f3.write(\"Custmer {} rating ={}\".format(id_rating,rating))\n",
    "            id_rating=id_rating+1\n",
    "            f3.write(\"\\n\")\n",
    "            ratings_rev.append(rating)\n",
    "    queries = queries + 20\n",
    "\n",
    "f1.close()\n",
    "f2.close()\n",
    "f3.close()\n",
    "\n",
    "f.write('Total reviews={}'.format(tot_reviews))\n",
    "f.write(\"\\n\")\n",
    "f.write('Total authors={}'.format(tot_authors))\n",
    "f.write(\"\\n\")\n",
    "f.write('Total ratings={}'.format(tot_ratings))\n",
    "f.write(\"\\n\")\n",
    "\n",
    "for i in range(0,tot_ratings):\n",
    "    au=authors_rev[i]\n",
    "    rat=ratings_rev[i]\n",
    "    f.write('{}  {}'.format(au,rat))\n",
    "    f.write(\"\\n\")\n",
    "f.close()\n",
    "\n",
    "print('Total reviews={}'.format(tot_reviews))\n",
    "print('Total authors={}'.format(tot_authors))\n",
    "print('Total ratings={}'.format(tot_ratings))"
   ]
  },
  {
   "cell_type": "code",
   "execution_count": 2,
   "metadata": {
    "collapsed": false,
    "scrolled": false
   },
   "outputs": [
    {
     "data": {
      "text/html": [
       "<iframe src=http://www.yelp.com/biz/abc-kitchen-new-york?start=20/ width=800 height=600></iframe>"
      ],
      "text/plain": [
       "<IPython.core.display.HTML object>"
      ]
     },
     "execution_count": 2,
     "metadata": {},
     "output_type": "execute_result"
    }
   ],
   "source": [
    "from IPython.display import HTML\n",
    "HTML('<iframe src=http://www.yelp.com/biz/abc-kitchen-new-york?start=20/ width=800 height=600></iframe>')"
   ]
  },
  {
   "cell_type": "code",
   "execution_count": 3,
   "metadata": {
    "collapsed": false
   },
   "outputs": [
    {
     "data": {
      "text/html": [
       "<div>\n",
       "<table border=\"1\" class=\"dataframe\">\n",
       "  <thead>\n",
       "    <tr style=\"text-align: right;\">\n",
       "      <th></th>\n",
       "      <th>Name</th>\n",
       "      <th>Rating</th>\n",
       "    </tr>\n",
       "  </thead>\n",
       "  <tbody>\n",
       "    <tr>\n",
       "      <th>0</th>\n",
       "      <td>Joanne K.</td>\n",
       "      <td>5</td>\n",
       "    </tr>\n",
       "    <tr>\n",
       "      <th>1</th>\n",
       "      <td>Kelly P.</td>\n",
       "      <td>4</td>\n",
       "    </tr>\n",
       "    <tr>\n",
       "      <th>2</th>\n",
       "      <td>Jane R.</td>\n",
       "      <td>3</td>\n",
       "    </tr>\n",
       "    <tr>\n",
       "      <th>3</th>\n",
       "      <td>Qian H.</td>\n",
       "      <td>4</td>\n",
       "    </tr>\n",
       "    <tr>\n",
       "      <th>4</th>\n",
       "      <td>Serena A.</td>\n",
       "      <td>5</td>\n",
       "    </tr>\n",
       "    <tr>\n",
       "      <th>5</th>\n",
       "      <td>Eugenia L.</td>\n",
       "      <td>5</td>\n",
       "    </tr>\n",
       "    <tr>\n",
       "      <th>6</th>\n",
       "      <td>Sheila R.</td>\n",
       "      <td>5</td>\n",
       "    </tr>\n",
       "    <tr>\n",
       "      <th>7</th>\n",
       "      <td>Jason H.</td>\n",
       "      <td>3</td>\n",
       "    </tr>\n",
       "    <tr>\n",
       "      <th>8</th>\n",
       "      <td>Julia K.</td>\n",
       "      <td>4</td>\n",
       "    </tr>\n",
       "    <tr>\n",
       "      <th>9</th>\n",
       "      <td>Jenn P.</td>\n",
       "      <td>4</td>\n",
       "    </tr>\n",
       "  </tbody>\n",
       "</table>\n",
       "</div>"
      ],
      "text/plain": [
       "         Name  Rating\n",
       "0   Joanne K.       5\n",
       "1    Kelly P.       4\n",
       "2     Jane R.       3\n",
       "3     Qian H.       4\n",
       "4   Serena A.       5\n",
       "5  Eugenia L.       5\n",
       "6   Sheila R.       5\n",
       "7    Jason H.       3\n",
       "8    Julia K.       4\n",
       "9     Jenn P.       4"
      ]
     },
     "execution_count": 3,
     "metadata": {},
     "output_type": "execute_result"
    },
    {
     "data": {
      "image/png": "[encoded data removed]",
      "text/plain": [
       "<matplotlib.figure.Figure at 0x2a03a7cf2b0>"
      ]
     },
     "metadata": {},
     "output_type": "display_data"
    }
   ],
   "source": [
    "from nltk.probability import FreqDist, ConditionalFreqDist\n",
    "import matplotlib.pyplot as plt\n",
    "num_tab=9000\n",
    "if len(authors_rev)<num_tab:\n",
    "    num_tab=len(authors_rev)\n",
    "\n",
    "reviewers={'Name':authors_rev[:num_tab],'Rating':ratings_rev[:num_tab]}\n",
    "reviewers=pd.DataFrame(reviewers)\n",
    "plt.figure(figsize=(8,6))\n",
    "plt.hist(reviewers.Rating)\n",
    "plt.xlabel('Review Rating',fontsize=17)\n",
    "plt.xticks(size=20)\n",
    "plt.yticks(size=15)\n",
    "reviewers.head(10)"
   ]
  },
  {
   "cell_type": "markdown",
   "metadata": {},
   "source": [
    "# Sentiment Analysis"
   ]
  },
  {
   "cell_type": "code",
   "execution_count": 5,
   "metadata": {
    "collapsed": false,
    "scrolled": true
   },
   "outputs": [],
   "source": [
    "from textblob import TextBlob\n",
    "from textblob.sentiments import NaiveBayesAnalyzer\n",
    "sa_score=[]\n",
    "for ir in range(len(reviewers.Rating)):\n",
    "        testimonial = TextBlob(Features[ir])\n",
    "        sc=testimonial.sentiment.polarity\n",
    "        #sc=sc*2.5+2.5\n",
    "        sc=sc*2+3\n",
    "        sa_score.append(sc)\n",
    "reviewers['Sa_score']=sa_score"
   ]
  },
  {
   "cell_type": "code",
   "execution_count": 6,
   "metadata": {
    "collapsed": false
   },
   "outputs": [
    {
     "name": "stdout",
     "output_type": "stream",
     "text": [
      "The accuracy of SA prediction is : 0.9589108910891089\n"
     ]
    }
   ],
   "source": [
    "accuacy_sa=[1 for x in sa_score if x>3]\n",
    "accuacy_sa=sum(accuacy_sa)/len(sa_score)\n",
    "print('The accuracy of SA prediction is : {}'.format(accuacy_sa))"
   ]
  },
  {
   "cell_type": "code",
   "execution_count": 7,
   "metadata": {
    "collapsed": false
   },
   "outputs": [
    {
     "data": {
      "text/html": [
       "<div>\n",
       "<table border=\"1\" class=\"dataframe\">\n",
       "  <thead>\n",
       "    <tr style=\"text-align: right;\">\n",
       "      <th></th>\n",
       "      <th>Sa_score</th>\n",
       "      <th>Rating</th>\n",
       "    </tr>\n",
       "    <tr>\n",
       "      <th>Rating</th>\n",
       "      <th></th>\n",
       "      <th></th>\n",
       "    </tr>\n",
       "  </thead>\n",
       "  <tbody>\n",
       "    <tr>\n",
       "      <th>1</th>\n",
       "      <td>3.148169</td>\n",
       "      <td>1</td>\n",
       "    </tr>\n",
       "    <tr>\n",
       "      <th>2</th>\n",
       "      <td>3.219520</td>\n",
       "      <td>2</td>\n",
       "    </tr>\n",
       "    <tr>\n",
       "      <th>3</th>\n",
       "      <td>3.441397</td>\n",
       "      <td>3</td>\n",
       "    </tr>\n",
       "    <tr>\n",
       "      <th>4</th>\n",
       "      <td>3.625006</td>\n",
       "      <td>4</td>\n",
       "    </tr>\n",
       "    <tr>\n",
       "      <th>5</th>\n",
       "      <td>3.720829</td>\n",
       "      <td>5</td>\n",
       "    </tr>\n",
       "  </tbody>\n",
       "</table>\n",
       "</div>"
      ],
      "text/plain": [
       "        Sa_score  Rating\n",
       "Rating                  \n",
       "1       3.148169       1\n",
       "2       3.219520       2\n",
       "3       3.441397       3\n",
       "4       3.625006       4\n",
       "5       3.720829       5"
      ]
     },
     "execution_count": 7,
     "metadata": {},
     "output_type": "execute_result"
    },
    {
     "data": {
      "image/png": "[encoded data removed]",
      "text/plain": [
       "<matplotlib.figure.Figure at 0x2a0416fda58>"
      ]
     },
     "metadata": {},
     "output_type": "display_data"
    }
   ],
   "source": [
    "plt.plot(reviewers.Rating,reviewers.Sa_score,'.k')\n",
    "group=reviewers.groupby('Rating')\n",
    "rat_av=group.agg('mean')\n",
    "rat_av['Rating']=[1,2,3,4,5]\n",
    "#plt.figure(figsize=(8,6))\n",
    "plt.plot(rat_av.index,rat_av.Sa_score,'-or')\n",
    "\n",
    "plt.xlabel('Reviewer Rating',fontsize=17)\n",
    "plt.ylabel('SA Score',fontsize=17)\n",
    "plt.xticks(size=20)\n",
    "plt.yticks(size=15)\n",
    "\n",
    "rat_av"
   ]
  },
  {
   "cell_type": "code",
   "execution_count": 14,
   "metadata": {
    "collapsed": false
   },
   "outputs": [
    {
     "data": {
      "text/plain": [
       "[<matplotlib.lines.Line2D at 0x2a0426960b8>]"
      ]
     },
     "execution_count": 14,
     "metadata": {},
     "output_type": "execute_result"
    },
    {
     "data": {
      "image/png": "[encoded data removed]",
      "text/plain": [
       "<matplotlib.figure.Figure at 0x2a0426145c0>"
      ]
     },
     "metadata": {},
     "output_type": "display_data"
    }
   ],
   "source": [
    "plt.figure(figsize=(8,6))\n",
    "plt.hist(sa_score,bins=100)\n",
    "plt.xlabel('SA score',fontsize=17)\n",
    "plt.xticks(size=20)\n",
    "plt.yticks(size=15)\n",
    "plt.plot([3,3],[0,120],'--r')"
   ]
  },
  {
   "cell_type": "code",
   "execution_count": 9,
   "metadata": {
    "collapsed": false
   },
   "outputs": [
    {
     "name": "stdout",
     "output_type": "stream",
     "text": [
      "mean score of SA=3.6177575251182743\n",
      "real score=4.177227722772277\n"
     ]
    },
    {
     "data": {
      "image/png": "[encoded data removed]",
      "text/plain": [
       "<matplotlib.figure.Figure at 0x2a04172da90>"
      ]
     },
     "metadata": {},
     "output_type": "display_data"
    }
   ],
   "source": [
    "import numpy as np\n",
    "from scipy import stats\n",
    "import seaborn as sns\n",
    "score_real=reviewers.Rating.mean()\n",
    "factor=score_real/np.mean(sa_score)\n",
    "factor=1\n",
    "plt.figure(figsize=(10,8))\n",
    "sns.violinplot(x=reviewers.Rating, y=reviewers.Sa_score*factor, data=reviewers)\n",
    "x=range(6)\n",
    "#sns.kdeplot(rat_av.Fa_score,shade=True)\n",
    "plt.plot(x,x,'-or')\n",
    "plt.plot(rat_av.index,rat_av.Sa_score*factor,'--ob')\n",
    "plt.xlabel('Reviewer Rating',fontsize=18)\n",
    "plt.ylabel('SA Score',fontsize=18)\n",
    "plt.xticks(size=20)\n",
    "plt.yticks(size=20)\n",
    "print('mean score of SA={}'.format(np.mean(sa_score)))\n",
    "print('real score={}'.format(score_real))"
   ]
  },
  {
   "cell_type": "code",
   "execution_count": 43,
   "metadata": {
    "collapsed": false
   },
   "outputs": [
    {
     "data": {
      "text/plain": [
       "(array([ 0. ,  0.2,  0.4,  0.6,  0.8,  1. ,  1.2,  1.4]),\n",
       " <a list of 8 Text yticklabel objects>)"
      ]
     },
     "execution_count": 43,
     "metadata": {},
     "output_type": "execute_result"
    },
    {
     "data": {
      "image/png": "[encoded data removed]",
      "text/plain": [
       "<matplotlib.figure.Figure at 0x1b906688dd8>"
      ]
     },
     "metadata": {},
     "output_type": "display_data"
    }
   ],
   "source": [
    "sns.kdeplot(rat_av.Sa_score,shade=True)\n",
    "plt.xlabel('SA Score',fontsize=16)\n",
    "plt.xticks(size=20)\n",
    "plt.yticks(size=20)"
   ]
  },
  {
   "cell_type": "markdown",
   "metadata": {},
   "source": [
    "# Prediction using Navie Baye"
   ]
  },
  {
   "cell_type": "code",
   "execution_count": 10,
   "metadata": {
    "collapsed": false
   },
   "outputs": [],
   "source": [
    "def features_extra(Features,reviewers):\n",
    "    yelpFeatures=[]\n",
    "    for ir,feature in enumerate(Features):\n",
    "        Words = re.findall(r\"[\\w']+|[.,!?;]\", feature.rstrip())\n",
    "        wordb=dict([(word.lower(), True) for word in Words])\n",
    "        if (reviewers.Rating[ir]>=3):\n",
    "            Words = [wordb, 'pos']\n",
    "        else:\n",
    "            Words = [wordb, 'neg']            \n",
    "        yelpFeatures.append(Words)\n",
    "    return yelpFeatures\n",
    "## test for greeting is treated as a negative word\n",
    "def features_extra_mod(Features,reviewers):\n",
    "    yelpFeatures=[]\n",
    "    postive_words=['greeting','ultimately','politely']\n",
    "    for ir,feature in enumerate(Features):\n",
    "        Words = re.findall(r\"[\\w']+|[.,!?;]\", feature.rstrip())\n",
    "        wordb=dict([(word.lower(), True) for word in Words])\n",
    "        pol='neg'\n",
    "        if (reviewers.Rating[ir]>=3):\n",
    "            pol='pos'\n",
    "        for wor  in wordb.keys():\n",
    "            if wor in postive_words:\n",
    "                print('positiveword corrected={} in reviwer {}'.format(wor,ir))                \n",
    "                pol='pos'\n",
    "        Words = [wordb, pol]\n",
    "        yelpFeatures.append(Words)\n",
    "    return yelpFeatures"
   ]
  },
  {
   "cell_type": "code",
   "execution_count": 11,
   "metadata": {
    "collapsed": true
   },
   "outputs": [],
   "source": [
    "Features=features_extra(Features,reviewers)\n",
    "#yelpFeatures=Features"
   ]
  },
  {
   "cell_type": "markdown",
   "metadata": {},
   "source": [
    "### Read data"
   ]
  },
  {
   "cell_type": "code",
   "execution_count": 58,
   "metadata": {
    "collapsed": false
   },
   "outputs": [
    {
     "name": "stdout",
     "output_type": "stream",
     "text": [
      "total ratings=6000\n"
     ]
    },
    {
     "name": "stderr",
     "output_type": "stream",
     "text": [
      "C:\\Users\\wanglf\\Anaconda3\\lib\\site-packages\\ipykernel\\__main__.py:3: ParserWarning: Falling back to the 'python' engine because the 'c' engine does not support regex separators; you can avoid this warning by specifying engine='python'.\n",
      "  app.launch_new_instance()\n"
     ]
    }
   ],
   "source": [
    "from ipykernel import kernelapp as app\n",
    "#rating_data=pd.read_csv('summary_auth_rating_ABC.txt',sep='  ',header=None)\n",
    "rating_data=pd.read_csv('summary_auth_rating_resturant.txt',sep='  ',header=None)\n",
    "rating_data.columns=['Author','Rating']\n",
    "rating_data.head()\n",
    "print('total ratings={}'.format(len(rating_data)))"
   ]
  },
  {
   "cell_type": "code",
   "execution_count": 63,
   "metadata": {
    "collapsed": false
   },
   "outputs": [
    {
     "name": "stdout",
     "output_type": "stream",
     "text": [
      "totoal reviews=6000\n"
     ]
    }
   ],
   "source": [
    "import codecs\n",
    "import random\n",
    "with codecs.open('reviews_resturant.txt', 'r','utf-8') as revSentences:\n",
    "    yelpFeatures=[]\n",
    "    for ir,feature in enumerate(revSentences):\n",
    "        Words = re.findall(r\"[\\w']+|[.,!?;]\", feature.rstrip())\n",
    "        wordb=dict([(word.lower(), True) for word in Words])\n",
    "        pol='neg'\n",
    "#        rat=as.numer(rating_data.Rating[ir])\n",
    "        if (rating_data.Rating[ir]>=3):\n",
    "            pol='pos'\n",
    "        Words = [wordb, pol] \n",
    "        yelpFeatures.append(Words)\n",
    "print('totoal reviews={}'.format(ir+1))\n",
    "random.shuffle(yelpFeatures)"
   ]
  },
  {
   "cell_type": "code",
   "execution_count": 68,
   "metadata": {
    "collapsed": true
   },
   "outputs": [],
   "source": [
    "def feature_select(words):\n",
    "    return dict([(word, True) for word in words])"
   ]
  },
  {
   "cell_type": "markdown",
   "metadata": {},
   "source": [
    "## Prediction of yelp feature"
   ]
  },
  {
   "cell_type": "code",
   "execution_count": 71,
   "metadata": {
    "collapsed": false
   },
   "outputs": [
    {
     "name": "stdout",
     "output_type": "stream",
     "text": [
      "train on 4500 instances, test on 1500 instances\n",
      "accuracy: 0.72\n",
      "Most Informative Features\n",
      "               apologies = True              neg : pos    =     32.7 : 1.0\n",
      "                horribly = True              neg : pos    =     27.7 : 1.0\n",
      "                  ripped = True              neg : pos    =     27.7 : 1.0\n",
      "                mistakes = True              neg : pos    =     27.7 : 1.0\n",
      "                 message = True              neg : pos    =     27.7 : 1.0\n",
      "              compensate = True              neg : pos    =     22.6 : 1.0\n",
      "              dismissive = True              neg : pos    =     22.6 : 1.0\n",
      "                 generic = True              neg : pos    =     22.6 : 1.0\n",
      "             apologizing = True              neg : pos    =     22.6 : 1.0\n",
      "                    trap = True              neg : pos    =     22.6 : 1.0\n",
      "                remotely = True              neg : pos    =     17.6 : 1.0\n",
      "                bullshit = True              neg : pos    =     17.6 : 1.0\n",
      "             reluctantly = True              neg : pos    =     17.6 : 1.0\n",
      "               sarcastic = True              neg : pos    =     17.6 : 1.0\n",
      "                  castle = True              neg : pos    =     17.6 : 1.0\n",
      "                 updated = True              neg : pos    =     17.6 : 1.0\n",
      "               mcdonalds = True              neg : pos    =     17.6 : 1.0\n",
      "                 today's = True              neg : pos    =     17.6 : 1.0\n",
      "            conservative = True              neg : pos    =     17.6 : 1.0\n",
      "                  acting = True              neg : pos    =     17.6 : 1.0\n"
     ]
    }
   ],
   "source": [
    "import re, math, collections, itertools, os\n",
    "import nltk, nltk.classify.util, nltk.metrics\n",
    "from nltk.classify import NaiveBayesClassifier\n",
    "from nltk.metrics import BigramAssocMeasures\n",
    "from nltk.probability import FreqDist, ConditionalFreqDist\n",
    "import random\n",
    "\n",
    "random.shuffle(yelpFeatures)\n",
    "Cutoff = int(math.floor(len(yelpFeatures)*3/4))\n",
    "trainFeatures = yelpFeatures[:Cutoff]\n",
    "testFeatures = yelpFeatures[Cutoff:]\n",
    "\n",
    "classifier = NaiveBayesClassifier.train(trainFeatures)\n",
    "referenceSets = collections.defaultdict(set)\n",
    "testSets = collections.defaultdict(set)\t\n",
    "for i, (features, label) in enumerate(testFeatures):\n",
    "    referenceSets[label].add(i)\n",
    "    predicted = classifier.classify(features)\n",
    "    testSets[predicted].add(i)\n",
    "print ('train on %d instances, test on %d instances' % (len(trainFeatures), len(testFeatures)))\n",
    "print ('accuracy:', nltk.classify.util.accuracy(classifier, testFeatures))\n",
    "classifier.show_most_informative_features(20)"
   ]
  },
  {
   "cell_type": "markdown",
   "metadata": {
    "collapsed": true
   },
   "source": [
    "### NaiveBaye Classifer with Movie Reivews data"
   ]
  },
  {
   "cell_type": "code",
   "execution_count": 72,
   "metadata": {
    "collapsed": false
   },
   "outputs": [
    {
     "name": "stdout",
     "output_type": "stream",
     "text": [
      "train on 1500 instances, test on 500 instances\n",
      "accuracy: 0.728\n",
      "Most Informative Features\n",
      "             magnificent = True              pos : neg    =     15.0 : 1.0\n",
      "             outstanding = True              pos : neg    =     13.6 : 1.0\n",
      "               insulting = True              neg : pos    =     13.0 : 1.0\n",
      "              vulnerable = True              pos : neg    =     12.3 : 1.0\n",
      "               ludicrous = True              neg : pos    =     11.8 : 1.0\n",
      "                  avoids = True              pos : neg    =     11.7 : 1.0\n",
      "             uninvolving = True              neg : pos    =     11.7 : 1.0\n",
      "              astounding = True              pos : neg    =     10.3 : 1.0\n",
      "             fascination = True              pos : neg    =     10.3 : 1.0\n",
      "                 idiotic = True              neg : pos    =      9.8 : 1.0\n"
     ]
    }
   ],
   "source": [
    "import nltk.classify.util\n",
    "from nltk.classify import NaiveBayesClassifier\n",
    "from nltk.corpus import movie_reviews\n",
    " \n",
    "def word_feats(words):\n",
    "    return dict([(word, True) for word in words])\n",
    " \n",
    "negids = movie_reviews.fileids('neg')\n",
    "posids = movie_reviews.fileids('pos')\n",
    " \n",
    "negfeats = [(word_feats(movie_reviews.words(fileids=[f])), 'neg') for f in negids]\n",
    "posfeats = [(word_feats(movie_reviews.words(fileids=[f])), 'pos') for f in posids]\n",
    " \n",
    "negcutoff = int(math.floor(len(negfeats)*3/4))\n",
    "poscutoff = int(math.floor(len(posfeats)*3/4))\n",
    " \n",
    "trainfeats = negfeats[:negcutoff] + posfeats[:poscutoff]\n",
    "testfeats = negfeats[negcutoff:] + posfeats[poscutoff:]\n",
    "print ('train on %d instances, test on %d instances' % (len(trainfeats), len(testfeats)))\n",
    " \n",
    "classifier = NaiveBayesClassifier.train(trainfeats)\n",
    "print ('accuracy:', nltk.classify.util.accuracy(classifier, testfeats))\n",
    "classifier.show_most_informative_features()"
   ]
  },
  {
   "cell_type": "markdown",
   "metadata": {},
   "source": [
    "### The following run Yelp prediction with Movie review traning data!\n",
    "The accuaracy is pretty high 0.811"
   ]
  },
  {
   "cell_type": "code",
   "execution_count": 86,
   "metadata": {
    "collapsed": false
   },
   "outputs": [
    {
     "name": "stdout",
     "output_type": "stream",
     "text": [
      "train on 1515 instances, test on 505 instances\n",
      "accuracy: 0.8118811881188119\n",
      "Most Informative Features\n",
      "             magnificent = True              pos : neg    =     15.0 : 1.0\n",
      "             outstanding = True              pos : neg    =     13.6 : 1.0\n",
      "               insulting = True              neg : pos    =     13.0 : 1.0\n",
      "              vulnerable = True              pos : neg    =     12.3 : 1.0\n",
      "               ludicrous = True              neg : pos    =     11.8 : 1.0\n",
      "                  avoids = True              pos : neg    =     11.7 : 1.0\n",
      "             uninvolving = True              neg : pos    =     11.7 : 1.0\n",
      "              astounding = True              pos : neg    =     10.3 : 1.0\n",
      "             fascination = True              pos : neg    =     10.3 : 1.0\n",
      "                 idiotic = True              neg : pos    =      9.8 : 1.0\n",
      "               affecting = True              pos : neg    =      9.7 : 1.0\n",
      "                  symbol = True              pos : neg    =      9.7 : 1.0\n",
      "                bothered = True              neg : pos    =      9.0 : 1.0\n",
      "                  seagal = True              neg : pos    =      9.0 : 1.0\n",
      "               illogical = True              neg : pos    =      9.0 : 1.0\n",
      "               animators = True              pos : neg    =      9.0 : 1.0\n",
      "                   inept = True              neg : pos    =      9.0 : 1.0\n",
      "                  annual = True              pos : neg    =      9.0 : 1.0\n",
      "                   mulan = True              pos : neg    =      9.0 : 1.0\n",
      "                palpable = True              pos : neg    =      8.3 : 1.0\n"
     ]
    }
   ],
   "source": [
    "Cutoff = int(math.floor(len(Features)*3/4))\n",
    "trainFeatures1 = Features[:Cutoff]\n",
    "testFeatures1 = Features[Cutoff:]\n",
    "\n",
    "referenceSets = collections.defaultdict(set)\n",
    "testSets = collections.defaultdict(set)\t\n",
    "for i, (features, label) in enumerate(testFeatures):\n",
    "    referenceSets[label].add(i)\n",
    "    predicted = classifier.classify(features)\n",
    "    testSets[predicted].add(i)\n",
    "print ('train on %d instances, test on %d instances' % (len(trainFeatures1), len(testFeatures1)))\n",
    "print ('accuracy:', nltk.classify.util.accuracy(classifier, testFeatures1))\n",
    "classifier.show_most_informative_features(20)"
   ]
  },
  {
   "cell_type": "markdown",
   "metadata": {},
   "source": [
    "### Movie reviewer Training data +Yelp test data  (1500test)"
   ]
  },
  {
   "cell_type": "code",
   "execution_count": 136,
   "metadata": {
    "collapsed": false
   },
   "outputs": [
    {
     "name": "stdout",
     "output_type": "stream",
     "text": [
      "train on 4500 instances, test on 1500 instances\n",
      "accuracy: 0.78\n",
      "Most Informative Features\n",
      "             magnificent = True              pos : neg    =     15.0 : 1.0\n",
      "             outstanding = True              pos : neg    =     13.6 : 1.0\n",
      "               insulting = True              neg : pos    =     13.0 : 1.0\n",
      "              vulnerable = True              pos : neg    =     12.3 : 1.0\n",
      "               ludicrous = True              neg : pos    =     11.8 : 1.0\n",
      "             uninvolving = True              neg : pos    =     11.7 : 1.0\n",
      "                  avoids = True              pos : neg    =     11.7 : 1.0\n",
      "              astounding = True              pos : neg    =     10.3 : 1.0\n",
      "             fascination = True              pos : neg    =     10.3 : 1.0\n",
      "                 idiotic = True              neg : pos    =      9.8 : 1.0\n",
      "               affecting = True              pos : neg    =      9.7 : 1.0\n",
      "                  symbol = True              pos : neg    =      9.7 : 1.0\n",
      "                   mulan = True              pos : neg    =      9.0 : 1.0\n",
      "                  seagal = True              neg : pos    =      9.0 : 1.0\n",
      "               animators = True              pos : neg    =      9.0 : 1.0\n",
      "                  annual = True              pos : neg    =      9.0 : 1.0\n",
      "                   inept = True              neg : pos    =      9.0 : 1.0\n",
      "                bothered = True              neg : pos    =      9.0 : 1.0\n",
      "               illogical = True              neg : pos    =      9.0 : 1.0\n",
      "                  azaria = True              neg : pos    =      8.3 : 1.0\n"
     ]
    }
   ],
   "source": [
    "referenceSets = collections.defaultdict(set)\n",
    "testSets = collections.defaultdict(set)\t\n",
    "for i, (features, label) in enumerate(testFeatures):\n",
    "    referenceSets[label].add(i)\n",
    "    predicted = classifier.classify(features)\n",
    "    testSets[predicted].add(i)\n",
    "print ('train on %d instances, test on %d instances' % (len(trainFeatures), len(testFeatures)))\n",
    "print ('accuracy:', nltk.classify.util.accuracy(classifier, testFeatures))\n",
    "classifier.show_most_informative_features(20)"
   ]
  },
  {
   "cell_type": "markdown",
   "metadata": {
    "collapsed": true
   },
   "source": [
    "# Summary"
   ]
  },
  {
   "cell_type": "markdown",
   "metadata": {},
   "source": [
    "#### The Yelp review text is downloaded first. Then it is used for SA (Sentiment Analysis) and supervised machine learning using Naive Bayes.  In the supervised learning, the ratings are scaled to two categories: positive and negative. The prediction accuracy is about 72% with 6000 features. This is preliminary study. Further improvements with bigram and other technics will be done\n"
   ]
  }
 ],
 "metadata": {
  "kernelspec": {
   "display_name": "Python 3",
   "language": "python",
   "name": "python3"
  },
  "language_info": {
   "codemirror_mode": {
    "name": "ipython",
    "version": 3
   },
   "file_extension": ".py",
   "mimetype": "text/x-python",
   "name": "python",
   "nbconvert_exporter": "python",
   "pygments_lexer": "ipython3",
   "version": "3.5.1"
  }
 },
 "nbformat": 4,
 "nbformat_minor": 0
}
