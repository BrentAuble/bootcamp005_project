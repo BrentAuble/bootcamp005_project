{
 "cells": [
  {
   "cell_type": "code",
   "execution_count": 131,
   "metadata": {
    "collapsed": false
   },
   "outputs": [
    {
     "name": "stdout",
     "output_type": "stream",
     "text": [
      "Connected successfully!!!\n"
     ]
    }
   ],
   "source": [
    "import numpy as np\n",
    "import pymongo\n",
    "import pandas as pd\n",
    "# Connection to Mongo DB\n",
    "try:\n",
    "    conn=pymongo.MongoClient()\n",
    "    print \"Connected successfully!!!\"\n",
    "except pymongo.errors.ConnectionFailure, e:\n",
    "    print \"Could not connect to MongoDB: %s\" % e \n",
    "conn\n",
    "\n",
    "recipesdb = conn['allrecipes']\n",
    "collection = recipesdb['recipes']\n",
    "collection2 = recipesdb['ingredients']\n",
    "df = pd.DataFrame(list(collection.find()))"
   ]
  },
  {
   "cell_type": "code",
   "execution_count": 132,
   "metadata": {
    "collapsed": true
   },
   "outputs": [],
   "source": [
    "collection2 = recipesdb['ingredients']\n",
    "df2 = pd.DataFrame(list(collection2.find()))\n",
    "df2 = df2.set_index('idnumber')\n"
   ]
  },
  {
   "cell_type": "code",
   "execution_count": 133,
   "metadata": {
    "collapsed": false,
    "scrolled": true
   },
   "outputs": [],
   "source": [
    "df = df.set_index('idnumber')\n"
   ]
  },
  {
   "cell_type": "code",
   "execution_count": 134,
   "metadata": {
    "collapsed": false
   },
   "outputs": [
    {
     "data": {
      "text/html": [
       "<div>\n",
       "<table border=\"1\" class=\"dataframe\">\n",
       "  <thead>\n",
       "    <tr style=\"text-align: right;\">\n",
       "      <th></th>\n",
       "      <th>_id</th>\n",
       "      <th>cal_count</th>\n",
       "      <th>cook_time</th>\n",
       "      <th>made_it_count</th>\n",
       "      <th>prep_time</th>\n",
       "      <th>recipe_title</th>\n",
       "      <th>review_count</th>\n",
       "      <th>star_rating</th>\n",
       "      <th>total_time</th>\n",
       "      <th>year</th>\n",
       "    </tr>\n",
       "    <tr>\n",
       "      <th>idnumber</th>\n",
       "      <th></th>\n",
       "      <th></th>\n",
       "      <th></th>\n",
       "      <th></th>\n",
       "      <th></th>\n",
       "      <th></th>\n",
       "      <th></th>\n",
       "      <th></th>\n",
       "      <th></th>\n",
       "      <th></th>\n",
       "    </tr>\n",
       "  </thead>\n",
       "  <tbody>\n",
       "    <tr>\n",
       "      <th>10032</th>\n",
       "      <td>5740cf36f0f8937b9e5f2ebf</td>\n",
       "      <td>294</td>\n",
       "      <td>12M</td>\n",
       "      <td>2</td>\n",
       "      <td>15M</td>\n",
       "      <td>Allison's Supreme Chocolate Chip Cookies</td>\n",
       "      <td>43</td>\n",
       "      <td>4.63461542129517</td>\n",
       "      <td>40M</td>\n",
       "      <td>1997</td>\n",
       "    </tr>\n",
       "    <tr>\n",
       "      <th>10044</th>\n",
       "      <td>5740cf55f0f8937b9e5f2ecb</td>\n",
       "      <td>111</td>\n",
       "      <td>10M</td>\n",
       "      <td>1</td>\n",
       "      <td>20M</td>\n",
       "      <td>Belgian Christmas Cookies</td>\n",
       "      <td>20</td>\n",
       "      <td>3.83333325386047</td>\n",
       "      <td>30M</td>\n",
       "      <td>1997</td>\n",
       "    </tr>\n",
       "    <tr>\n",
       "      <th>10032</th>\n",
       "      <td>5740d031f0f8937bbc1f4c79</td>\n",
       "      <td>294</td>\n",
       "      <td>12M</td>\n",
       "      <td>2</td>\n",
       "      <td>15M</td>\n",
       "      <td>Allison's Supreme Chocolate Chip Cookies</td>\n",
       "      <td>43</td>\n",
       "      <td>4.63461542129517</td>\n",
       "      <td>40M</td>\n",
       "      <td>1997</td>\n",
       "    </tr>\n",
       "    <tr>\n",
       "      <th>10044</th>\n",
       "      <td>5740d042f0f8937bbc1f4c85</td>\n",
       "      <td>111</td>\n",
       "      <td>10M</td>\n",
       "      <td>1</td>\n",
       "      <td>20M</td>\n",
       "      <td>Belgian Christmas Cookies</td>\n",
       "      <td>20</td>\n",
       "      <td>3.83333325386047</td>\n",
       "      <td>30M</td>\n",
       "      <td>1997</td>\n",
       "    </tr>\n",
       "    <tr>\n",
       "      <th>10141</th>\n",
       "      <td>5740d053f0f8937bbc1f4c91</td>\n",
       "      <td>207</td>\n",
       "      <td>10M</td>\n",
       "      <td>449</td>\n",
       "      <td>15M</td>\n",
       "      <td>Outrageous Chocolate Chip Cookies</td>\n",
       "      <td>1699</td>\n",
       "      <td>4.68571424484253</td>\n",
       "      <td>25M</td>\n",
       "      <td>1997</td>\n",
       "    </tr>\n",
       "  </tbody>\n",
       "</table>\n",
       "</div>"
      ],
      "text/plain": [
       "                               _id cal_count cook_time made_it_count  \\\n",
       "idnumber                                                               \n",
       "10032     5740cf36f0f8937b9e5f2ebf       294       12M             2   \n",
       "10044     5740cf55f0f8937b9e5f2ecb       111       10M             1   \n",
       "10032     5740d031f0f8937bbc1f4c79       294       12M             2   \n",
       "10044     5740d042f0f8937bbc1f4c85       111       10M             1   \n",
       "10141     5740d053f0f8937bbc1f4c91       207       10M           449   \n",
       "\n",
       "         prep_time                              recipe_title review_count  \\\n",
       "idnumber                                                                    \n",
       "10032          15M  Allison's Supreme Chocolate Chip Cookies           43   \n",
       "10044          20M                 Belgian Christmas Cookies           20   \n",
       "10032          15M  Allison's Supreme Chocolate Chip Cookies           43   \n",
       "10044          20M                 Belgian Christmas Cookies           20   \n",
       "10141          15M         Outrageous Chocolate Chip Cookies         1699   \n",
       "\n",
       "               star_rating total_time  year  \n",
       "idnumber                                     \n",
       "10032     4.63461542129517        40M  1997  \n",
       "10044     3.83333325386047        30M  1997  \n",
       "10032     4.63461542129517        40M  1997  \n",
       "10044     3.83333325386047        30M  1997  \n",
       "10141     4.68571424484253        25M  1997  "
      ]
     },
     "execution_count": 134,
     "metadata": {},
     "output_type": "execute_result"
    }
   ],
   "source": [
    "df.head()"
   ]
  },
  {
   "cell_type": "code",
   "execution_count": 135,
   "metadata": {
    "collapsed": false
   },
   "outputs": [],
   "source": [
    "import re\n",
    "#print str(df.iloc[0,8])\n",
    "\n",
    "#convert times to minutes\n",
    "def contomin(timetest):\n",
    "    if timetest == 'NA':\n",
    "        return ''\n",
    "    \n",
    "    if re.search('D', timetest):\n",
    "        days = int(re.findall('(\\d+)D', timetest)[0])\n",
    "    else:\n",
    "        days = 0\n",
    "    if re.search('H', timetest):\n",
    "        hours = int(re.findall('(\\d+)H', timetest)[0])\n",
    "    else:\n",
    "        hours = 0    \n",
    "        \n",
    "    if re.search('M', timetest):\n",
    "        minutes = int(re.findall('(\\d+)M', timetest)[0])\n",
    "    else:\n",
    "        minutes = 0\n",
    "    \n",
    "    return minutes+hours*60+days*60*24\n",
    "\n",
    "def madetocountfix(madecount):\n",
    "    if re.search('K', madecount):\n",
    "        madecount = re.sub('K', '000', madecount)\n",
    "    \n",
    "    return int(madecount)\n",
    "        \n",
    "#byyear = df.groupby('year')"
   ]
  },
  {
   "cell_type": "code",
   "execution_count": 136,
   "metadata": {
    "collapsed": false
   },
   "outputs": [],
   "source": [
    "df.made_it_count = map(madetocountfix,df.made_it_count)"
   ]
  },
  {
   "cell_type": "code",
   "execution_count": 137,
   "metadata": {
    "collapsed": false
   },
   "outputs": [],
   "source": [
    "df['cook_time'] = map(contomin, df.cook_time)"
   ]
  },
  {
   "cell_type": "code",
   "execution_count": 138,
   "metadata": {
    "collapsed": false
   },
   "outputs": [],
   "source": [
    "df['prep_time'] = map(contomin, df.prep_time)"
   ]
  },
  {
   "cell_type": "code",
   "execution_count": 139,
   "metadata": {
    "collapsed": false
   },
   "outputs": [],
   "source": [
    "df['total_time'] = map(contomin, df.total_time)"
   ]
  },
  {
   "cell_type": "code",
   "execution_count": 141,
   "metadata": {
    "collapsed": false
   },
   "outputs": [
    {
     "data": {
      "text/html": [
       "<div>\n",
       "<table border=\"1\" class=\"dataframe\">\n",
       "  <thead>\n",
       "    <tr style=\"text-align: right;\">\n",
       "      <th></th>\n",
       "      <th>_id</th>\n",
       "      <th>cal_count</th>\n",
       "      <th>cook_time</th>\n",
       "      <th>made_it_count</th>\n",
       "      <th>prep_time</th>\n",
       "      <th>recipe_title</th>\n",
       "      <th>review_count</th>\n",
       "      <th>star_rating</th>\n",
       "      <th>total_time</th>\n",
       "      <th>year</th>\n",
       "    </tr>\n",
       "    <tr>\n",
       "      <th>idnumber</th>\n",
       "      <th></th>\n",
       "      <th></th>\n",
       "      <th></th>\n",
       "      <th></th>\n",
       "      <th></th>\n",
       "      <th></th>\n",
       "      <th></th>\n",
       "      <th></th>\n",
       "      <th></th>\n",
       "      <th></th>\n",
       "    </tr>\n",
       "  </thead>\n",
       "  <tbody>\n",
       "    <tr>\n",
       "      <th>10032</th>\n",
       "      <td>5740cf36f0f8937b9e5f2ebf</td>\n",
       "      <td>294</td>\n",
       "      <td>12</td>\n",
       "      <td>2</td>\n",
       "      <td>15</td>\n",
       "      <td>Allison's Supreme Chocolate Chip Cookies</td>\n",
       "      <td>43</td>\n",
       "      <td>4.63461542129517</td>\n",
       "      <td>40</td>\n",
       "      <td>1997</td>\n",
       "    </tr>\n",
       "    <tr>\n",
       "      <th>10044</th>\n",
       "      <td>5740cf55f0f8937b9e5f2ecb</td>\n",
       "      <td>111</td>\n",
       "      <td>10</td>\n",
       "      <td>1</td>\n",
       "      <td>20</td>\n",
       "      <td>Belgian Christmas Cookies</td>\n",
       "      <td>20</td>\n",
       "      <td>3.83333325386047</td>\n",
       "      <td>30</td>\n",
       "      <td>1997</td>\n",
       "    </tr>\n",
       "    <tr>\n",
       "      <th>10032</th>\n",
       "      <td>5740d031f0f8937bbc1f4c79</td>\n",
       "      <td>294</td>\n",
       "      <td>12</td>\n",
       "      <td>2</td>\n",
       "      <td>15</td>\n",
       "      <td>Allison's Supreme Chocolate Chip Cookies</td>\n",
       "      <td>43</td>\n",
       "      <td>4.63461542129517</td>\n",
       "      <td>40</td>\n",
       "      <td>1997</td>\n",
       "    </tr>\n",
       "    <tr>\n",
       "      <th>10044</th>\n",
       "      <td>5740d042f0f8937bbc1f4c85</td>\n",
       "      <td>111</td>\n",
       "      <td>10</td>\n",
       "      <td>1</td>\n",
       "      <td>20</td>\n",
       "      <td>Belgian Christmas Cookies</td>\n",
       "      <td>20</td>\n",
       "      <td>3.83333325386047</td>\n",
       "      <td>30</td>\n",
       "      <td>1997</td>\n",
       "    </tr>\n",
       "    <tr>\n",
       "      <th>10141</th>\n",
       "      <td>5740d053f0f8937bbc1f4c91</td>\n",
       "      <td>207</td>\n",
       "      <td>10</td>\n",
       "      <td>449</td>\n",
       "      <td>15</td>\n",
       "      <td>Outrageous Chocolate Chip Cookies</td>\n",
       "      <td>1699</td>\n",
       "      <td>4.68571424484253</td>\n",
       "      <td>25</td>\n",
       "      <td>1997</td>\n",
       "    </tr>\n",
       "    <tr>\n",
       "      <th>10201</th>\n",
       "      <td>5740d067f0f8937bbc1f4c9c</td>\n",
       "      <td>89</td>\n",
       "      <td>15</td>\n",
       "      <td>34</td>\n",
       "      <td>15</td>\n",
       "      <td>Apricot Cream Cheese Thumbprints</td>\n",
       "      <td>218</td>\n",
       "      <td>4.43700790405273</td>\n",
       "      <td>150</td>\n",
       "      <td>1997</td>\n",
       "    </tr>\n",
       "    <tr>\n",
       "      <th>9570</th>\n",
       "      <td>5740d06ff0f8937bbc1f4ca4</td>\n",
       "      <td>254</td>\n",
       "      <td>15</td>\n",
       "      <td>5</td>\n",
       "      <td>15</td>\n",
       "      <td>Peanut Butter Cookies I</td>\n",
       "      <td>54</td>\n",
       "      <td>2.75</td>\n",
       "      <td>30</td>\n",
       "      <td>1997</td>\n",
       "    </tr>\n",
       "    <tr>\n",
       "      <th>9577</th>\n",
       "      <td>5740d07bf0f8937bbc1f4caf</td>\n",
       "      <td>109</td>\n",
       "      <td>12</td>\n",
       "      <td>0</td>\n",
       "      <td>15</td>\n",
       "      <td>World's Best Oatmeal Cookies</td>\n",
       "      <td>38</td>\n",
       "      <td>4.43181800842285</td>\n",
       "      <td>27</td>\n",
       "      <td>1997</td>\n",
       "    </tr>\n",
       "    <tr>\n",
       "      <th>9597</th>\n",
       "      <td>5740d08af0f8937bbc1f4cb8</td>\n",
       "      <td>123</td>\n",
       "      <td>8</td>\n",
       "      <td>2</td>\n",
       "      <td>25</td>\n",
       "      <td>Sugar Cookies I</td>\n",
       "      <td>31</td>\n",
       "      <td>4</td>\n",
       "      <td>153</td>\n",
       "      <td>1997</td>\n",
       "    </tr>\n",
       "    <tr>\n",
       "      <th>9603</th>\n",
       "      <td>5740d098f0f8937bbc1f4cc3</td>\n",
       "      <td>261</td>\n",
       "      <td>50</td>\n",
       "      <td>4</td>\n",
       "      <td>25</td>\n",
       "      <td>Chocolate and Almond Biscotti</td>\n",
       "      <td>51</td>\n",
       "      <td>4.18032789230347</td>\n",
       "      <td>105</td>\n",
       "      <td>1997</td>\n",
       "    </tr>\n",
       "  </tbody>\n",
       "</table>\n",
       "</div>"
      ],
      "text/plain": [
       "                               _id cal_count cook_time  made_it_count  \\\n",
       "idnumber                                                                \n",
       "10032     5740cf36f0f8937b9e5f2ebf       294        12              2   \n",
       "10044     5740cf55f0f8937b9e5f2ecb       111        10              1   \n",
       "10032     5740d031f0f8937bbc1f4c79       294        12              2   \n",
       "10044     5740d042f0f8937bbc1f4c85       111        10              1   \n",
       "10141     5740d053f0f8937bbc1f4c91       207        10            449   \n",
       "10201     5740d067f0f8937bbc1f4c9c        89        15             34   \n",
       "9570      5740d06ff0f8937bbc1f4ca4       254        15              5   \n",
       "9577      5740d07bf0f8937bbc1f4caf       109        12              0   \n",
       "9597      5740d08af0f8937bbc1f4cb8       123         8              2   \n",
       "9603      5740d098f0f8937bbc1f4cc3       261        50              4   \n",
       "\n",
       "         prep_time                              recipe_title review_count  \\\n",
       "idnumber                                                                    \n",
       "10032           15  Allison's Supreme Chocolate Chip Cookies           43   \n",
       "10044           20                 Belgian Christmas Cookies           20   \n",
       "10032           15  Allison's Supreme Chocolate Chip Cookies           43   \n",
       "10044           20                 Belgian Christmas Cookies           20   \n",
       "10141           15         Outrageous Chocolate Chip Cookies         1699   \n",
       "10201           15          Apricot Cream Cheese Thumbprints          218   \n",
       "9570            15                   Peanut Butter Cookies I           54   \n",
       "9577            15              World's Best Oatmeal Cookies           38   \n",
       "9597            25                           Sugar Cookies I           31   \n",
       "9603            25             Chocolate and Almond Biscotti           51   \n",
       "\n",
       "               star_rating total_time  year  \n",
       "idnumber                                     \n",
       "10032     4.63461542129517         40  1997  \n",
       "10044     3.83333325386047         30  1997  \n",
       "10032     4.63461542129517         40  1997  \n",
       "10044     3.83333325386047         30  1997  \n",
       "10141     4.68571424484253         25  1997  \n",
       "10201     4.43700790405273        150  1997  \n",
       "9570                  2.75         30  1997  \n",
       "9577      4.43181800842285         27  1997  \n",
       "9597                     4        153  1997  \n",
       "9603      4.18032789230347        105  1997  "
      ]
     },
     "execution_count": 141,
     "metadata": {},
     "output_type": "execute_result"
    }
   ],
   "source": [
    "df.head(n=10)"
   ]
  },
  {
   "cell_type": "code",
   "execution_count": 123,
   "metadata": {
    "collapsed": false
   },
   "outputs": [],
   "source": [
    "#df.to_csv('recipespd.txt',sep='\\t')"
   ]
  },
  {
   "cell_type": "code",
   "execution_count": 127,
   "metadata": {
    "collapsed": false
   },
   "outputs": [
    {
     "data": {
      "text/html": [
       "<div>\n",
       "<table border=\"1\" class=\"dataframe\">\n",
       "  <thead>\n",
       "    <tr style=\"text-align: right;\">\n",
       "      <th></th>\n",
       "      <th>_id</th>\n",
       "      <th>ingredient</th>\n",
       "      <th>year</th>\n",
       "    </tr>\n",
       "    <tr>\n",
       "      <th>idnumber</th>\n",
       "      <th></th>\n",
       "      <th></th>\n",
       "      <th></th>\n",
       "    </tr>\n",
       "  </thead>\n",
       "  <tbody>\n",
       "    <tr>\n",
       "      <th>10032</th>\n",
       "      <td>5740cf35f0f8937b9e5f2eb2</td>\n",
       "      <td>1/2 cup shortening</td>\n",
       "      <td>1997</td>\n",
       "    </tr>\n",
       "    <tr>\n",
       "      <th>10032</th>\n",
       "      <td>5740cf35f0f8937b9e5f2eb3</td>\n",
       "      <td>1/2 cup butter, softened</td>\n",
       "      <td>1997</td>\n",
       "    </tr>\n",
       "    <tr>\n",
       "      <th>10032</th>\n",
       "      <td>5740cf35f0f8937b9e5f2eb4</td>\n",
       "      <td>3/4 cup packed brown sugar</td>\n",
       "      <td>1997</td>\n",
       "    </tr>\n",
       "    <tr>\n",
       "      <th>10032</th>\n",
       "      <td>5740cf35f0f8937b9e5f2eb5</td>\n",
       "      <td>3/4 cup white sugar</td>\n",
       "      <td>1997</td>\n",
       "    </tr>\n",
       "    <tr>\n",
       "      <th>10032</th>\n",
       "      <td>5740cf35f0f8937b9e5f2eb6</td>\n",
       "      <td>2 eggs</td>\n",
       "      <td>1997</td>\n",
       "    </tr>\n",
       "  </tbody>\n",
       "</table>\n",
       "</div>"
      ],
      "text/plain": [
       "                               _id                  ingredient  year\n",
       "idnumber                                                            \n",
       "10032     5740cf35f0f8937b9e5f2eb2          1/2 cup shortening  1997\n",
       "10032     5740cf35f0f8937b9e5f2eb3    1/2 cup butter, softened  1997\n",
       "10032     5740cf35f0f8937b9e5f2eb4  3/4 cup packed brown sugar  1997\n",
       "10032     5740cf35f0f8937b9e5f2eb5         3/4 cup white sugar  1997\n",
       "10032     5740cf35f0f8937b9e5f2eb6                      2 eggs  1997"
      ]
     },
     "execution_count": 127,
     "metadata": {},
     "output_type": "execute_result"
    }
   ],
   "source": [
    "df2.head()"
   ]
  },
  {
   "cell_type": "code",
   "execution_count": 128,
   "metadata": {
    "collapsed": true
   },
   "outputs": [],
   "source": [
    "#df2.to_csv('ingredientspd.txt',sep='\\t')"
   ]
  },
  {
   "cell_type": "code",
   "execution_count": null,
   "metadata": {
    "collapsed": true
   },
   "outputs": [],
   "source": []
  }
 ],
 "metadata": {
  "kernelspec": {
   "display_name": "Python 2",
   "language": "python",
   "name": "python2"
  },
  "language_info": {
   "codemirror_mode": {
    "name": "ipython",
    "version": 2
   },
   "file_extension": ".py",
   "mimetype": "text/x-python",
   "name": "python",
   "nbconvert_exporter": "python",
   "pygments_lexer": "ipython2",
   "version": "2.7.11"
  }
 },
 "nbformat": 4,
 "nbformat_minor": 0
}
