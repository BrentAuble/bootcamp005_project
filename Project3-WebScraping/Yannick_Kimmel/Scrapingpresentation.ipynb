{
 "cells": [
  {
   "cell_type": "code",
   "execution_count": 1,
   "metadata": {
    "collapsed": false
   },
   "outputs": [
    {
     "name": "stdout",
     "output_type": "stream",
     "text": [
      "Populating the interactive namespace from numpy and matplotlib\n"
     ]
    }
   ],
   "source": [
    "%pylab inline\n",
    "import matplotlib.pyplot as plt\n",
    "\n",
    "import numpy as np\n",
    "import pandas as pd\n",
    "from scipy import stats\n",
    "import numpy as np"
   ]
  },
  {
   "cell_type": "code",
   "execution_count": 19,
   "metadata": {
    "collapsed": true
   },
   "outputs": [],
   "source": [
    "recipes = pd.read_csv('recipespd.txt', sep='\\t',index_col=0)\n",
    "ingredients = pd.read_csv('ingredientspd.txt', sep='\\t',index_col=0)\n",
    "recipes['recipe_title'] = recipes['recipe_title'].str.lower()\n",
    "ingredients['ingredient'] = ingredients['ingredient'].str.lower()"
   ]
  },
  {
   "cell_type": "code",
   "execution_count": 20,
   "metadata": {
    "collapsed": false
   },
   "outputs": [
    {
     "data": {
      "text/html": [
       "<div>\n",
       "<table border=\"1\" class=\"dataframe\">\n",
       "  <thead>\n",
       "    <tr style=\"text-align: right;\">\n",
       "      <th></th>\n",
       "      <th>_id</th>\n",
       "      <th>ingredient</th>\n",
       "      <th>year</th>\n",
       "    </tr>\n",
       "    <tr>\n",
       "      <th>idnumber</th>\n",
       "      <th></th>\n",
       "      <th></th>\n",
       "      <th></th>\n",
       "    </tr>\n",
       "  </thead>\n",
       "  <tbody>\n",
       "    <tr>\n",
       "      <th>10032</th>\n",
       "      <td>5740cf35f0f8937b9e5f2eb2</td>\n",
       "      <td>1/2 cup shortening</td>\n",
       "      <td>1997</td>\n",
       "    </tr>\n",
       "    <tr>\n",
       "      <th>10032</th>\n",
       "      <td>5740cf35f0f8937b9e5f2eb3</td>\n",
       "      <td>1/2 cup butter, softened</td>\n",
       "      <td>1997</td>\n",
       "    </tr>\n",
       "    <tr>\n",
       "      <th>10032</th>\n",
       "      <td>5740cf35f0f8937b9e5f2eb4</td>\n",
       "      <td>3/4 cup packed brown sugar</td>\n",
       "      <td>1997</td>\n",
       "    </tr>\n",
       "    <tr>\n",
       "      <th>10032</th>\n",
       "      <td>5740cf35f0f8937b9e5f2eb5</td>\n",
       "      <td>3/4 cup white sugar</td>\n",
       "      <td>1997</td>\n",
       "    </tr>\n",
       "    <tr>\n",
       "      <th>10032</th>\n",
       "      <td>5740cf35f0f8937b9e5f2eb6</td>\n",
       "      <td>2 eggs</td>\n",
       "      <td>1997</td>\n",
       "    </tr>\n",
       "  </tbody>\n",
       "</table>\n",
       "</div>"
      ],
      "text/plain": [
       "                               _id                  ingredient  year\n",
       "idnumber                                                            \n",
       "10032     5740cf35f0f8937b9e5f2eb2          1/2 cup shortening  1997\n",
       "10032     5740cf35f0f8937b9e5f2eb3    1/2 cup butter, softened  1997\n",
       "10032     5740cf35f0f8937b9e5f2eb4  3/4 cup packed brown sugar  1997\n",
       "10032     5740cf35f0f8937b9e5f2eb5         3/4 cup white sugar  1997\n",
       "10032     5740cf35f0f8937b9e5f2eb6                      2 eggs  1997"
      ]
     },
     "execution_count": 20,
     "metadata": {},
     "output_type": "execute_result"
    }
   ],
   "source": []
  },
  {
   "cell_type": "code",
   "execution_count": null,
   "metadata": {
    "collapsed": true
   },
   "outputs": [],
   "source": []
  }
 ],
 "metadata": {
  "kernelspec": {
   "display_name": "Python 2",
   "language": "python",
   "name": "python2"
  },
  "language_info": {
   "codemirror_mode": {
    "name": "ipython",
    "version": 2
   },
   "file_extension": ".py",
   "mimetype": "text/x-python",
   "name": "python",
   "nbconvert_exporter": "python",
   "pygments_lexer": "ipython2",
   "version": "2.7.11"
  }
 },
 "nbformat": 4,
 "nbformat_minor": 0
}
