{
 "cells": [
  {
   "cell_type": "code",
   "execution_count": 1,
   "metadata": {
    "collapsed": true
   },
   "outputs": [],
   "source": [
    "import re\n",
    "import pandas as pd\n",
    "from urllib2 import urlopen\n",
    "import json\n",
    "import requests\n",
    "from lxml import html\n",
    "import codecs\n",
    "\n",
    "def get_jsonparsed_data(url):\n",
    "    response = urlopen(url)\n",
    "    data = str(response.read())\n",
    "    return json.loads(data)\n",
    "\n",
    "def parseGameCode(CD):\n",
    "    S = str(int(CD))\n",
    "    return [int(S[0:4]), int(S[4:6]), int(S[-4:])]\n",
    "\n",
    "def getURL(seas, gametype, gamenum, repcode):\n",
    "    url = ['http://www.nhl.com/scores/htmlreports/', str(seas - 1), str(seas),\n",
    "           '/', repcode, '0', str(gametype), ('%04i' % (gamenum)), '.HTM']\n",
    "    return ''.join(url)\n",
    "\n",
    "def getReport(gameCode, ReportCode):\n",
    "    GC = parseGameCode(gameCode)\n",
    "    url = getURL(GC[0], GC[1], GC[2], ReportCode)\n",
    "    req = requests.get(url, headers={\n",
    "        'User-Agent': 'Mozilla/5.0 (X11; Linux x86_64) AppleWebKit/537.11 (KHTML, like Gecko) Chrome/23.0.1271.64 Safari/537.11',\n",
    "        'Accept': 'text/html,application/xhtml+xml,application/xml;q=0.9,*/*;q=0.8',\n",
    "        'Accept-Charset': 'ISO-8859-1,utf-8;q=0.7,*;q=0.3',\n",
    "        'Accept-Encoding': 'none',\n",
    "        'Accept-Language': 'en-US,en;q=0.8',\n",
    "        'Connection': 'keep-alive'\n",
    "    })\n",
    "    return req\n",
    "\n",
    "def SaveEvt(f, gameId, per, playNo, event, desc, time, stg):\n",
    "    T = str(int(gameId)) + ',' + str(per) + ',' + str(\n",
    "        playNo) + ',\\\"' + event + '\\\",\\\"' + desc + '\\\",' + time + ',' + stg\n",
    "    file = codecs.open(f, 'a', 'utf-8')\n",
    "    file.write(T + '\\n')\n",
    "    file.close()\n",
    "\n",
    "def SaveEvtRO(f, gameId, per, playNo, ha, plNo, plNa, PlPo):\n",
    "    T = str(int(gameId)) + ',' + str(per) + ',' + str(playNo) + ',' + ha + ',' + plNo + ',' + plNa + ',' + PlPo\n",
    "    file = codecs.open(f, 'a', 'utf-8')\n",
    "    file.write(T + '\\n')\n",
    "    file.close()\n",
    "\n",
    "NHLTeams = ['ANA','ARI','BOS','BUF','CAR','CBJ','CGY','CHI','COL','DAL','DET','EDM','FLA','LAK','MIN','MTL','NJD',\\\n",
    "            'NSH','NYI','NYR','OTT','PHI','PHX','PIT','SJS','STL','TBL','TOR','VAN','WPG','WSH']\n",
    " \n",
    "Years_to_Scrape = [2013, 2014, 2015,2016]\n",
    "ColMap = {'play_num': 0, 'per': 1, 'str': 2, 'time': 3, 'event': 4, 'desc': 5, 'vis': 6, 'home': 7}\n",
    "#Schedule per Month http://nhlwc.cdnak.neulion.com/fs1/nhl/league/clubschedule/CGY/2014/02/iphone/clubschedule.json"
   ]
  },
  {
   "cell_type": "code",
   "execution_count": 3,
   "metadata": {
    "collapsed": false
   },
   "outputs": [],
   "source": [
    "# GET SCHEDULE\n",
    "Schedule = pd.DataFrame()\n",
    "for TeamID in NHLTeams:\n",
    "    for Yr in Years_to_Scrape:\n",
    "        for Mo in range(1,13):\n",
    "            try:\n",
    "                LinkID = 'http://nhlwc.cdnak.neulion.com/fs1/nhl/league/clubschedule/' + TeamID + '/' + str(Yr) + '/' + str(Mo) + '/iphone/clubschedule.json'\n",
    "                LinkData = get_jsonparsed_data(LinkID)\n",
    "                GameData = pd.DataFrame(LinkData['games'])\n",
    "                GameData['Team'] = TeamID\n",
    "                GameData['Yr'] = Yr\n",
    "                GameData['Mo'] = Mo\n",
    "                Schedule = pd.concat([Schedule, GameData], axis=0)\n",
    "            except:\n",
    "                ErrStr = TeamID + '-' + str(Yr) + '-' + str(Mo)"
   ]
  },
  {
   "cell_type": "code",
   "execution_count": 4,
   "metadata": {
    "collapsed": false
   },
   "outputs": [],
   "source": [
    "import codecs\n",
    "fileName = 'NewGameInfo.csv'\n",
    "ERecs = pd.read_csv(fileName, encoding = 'utf-8')\n",
    "ExistingRecs = ERecs.gameId\n",
    "file = codecs.open(fileName,'a','utf-8')\n",
    "#Hdr = 'gameId,home,visitor,att,date,loc'\n",
    "#file.write(Hdr + '\\n')"
   ]
  },
  {
   "cell_type": "code",
   "execution_count": 5,
   "metadata": {
    "collapsed": false
   },
   "outputs": [],
   "source": [
    "for H, G in Schedule.iterrows():\n",
    "    if G.gameId not in ExistingRecs:\n",
    "        GameId = G.gameId\n",
    "        HTML_Obj = getReport(GameId, 'PL')\n",
    "        hTree = html.fromstring(HTML_Obj.content)\n",
    "        try:\n",
    "            vFull = team_scr(hTree,'Visitor')[1]\n",
    "            hFull = team_scr(hTree, 'Home')[1]\n",
    "\n",
    "            game_info = hTree.xpath('//table[@id=\"GameInfo\"]')[0].xpath('.//text()')\n",
    "            game_info = '; '.join(s.strip() for s in game_info if s.strip() != '')\n",
    "\n",
    "            att = re.findall(r'(?<=[aA]ttendance\\s)(\\d*\\,?\\d*)', game_info)\n",
    "            att = int(att[0].replace(',','')) if att else 0\n",
    "\n",
    "            date = re.findall(r'\\w+\\,?\\s\\w+\\s\\d+\\,?\\s\\d+', game_info)\n",
    "            date = date[0] if date else ''\n",
    "            date = date.replace(',','')\n",
    "            loc = re.findall(r'(?<=at\\W)([^\\;]*)', game_info)\n",
    "            loc = loc[0] if loc else ''\n",
    "\n",
    "            rec = str(int(GameId)) + ',' + vFull + ',' + hFull + ',' + str(att) + ',' + date + ',' + loc\n",
    "            file.write(rec + '\\n')\n",
    "        except:\n",
    "            pass\n",
    "file.close()"
   ]
  },
  {
   "cell_type": "code",
   "execution_count": 28,
   "metadata": {
    "collapsed": false
   },
   "outputs": [
    {
     "data": {
      "text/plain": [
       "<Element html at 0xb0e7e08>"
      ]
     },
     "execution_count": 28,
     "metadata": {},
     "output_type": "execute_result"
    }
   ],
   "source": []
  }
 ],
 "metadata": {
  "kernelspec": {
   "display_name": "Python 2",
   "language": "python",
   "name": "python2"
  },
  "language_info": {
   "codemirror_mode": {
    "name": "ipython",
    "version": 2
   },
   "file_extension": ".py",
   "mimetype": "text/x-python",
   "name": "python",
   "nbconvert_exporter": "python",
   "pygments_lexer": "ipython2",
   "version": "2.7.11"
  }
 },
 "nbformat": 4,
 "nbformat_minor": 0
}
