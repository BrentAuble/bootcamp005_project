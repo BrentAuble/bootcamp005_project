{
 "cells": [
  {
   "cell_type": "code",
   "execution_count": 197,
   "metadata": {
    "collapsed": true
   },
   "outputs": [],
   "source": [
    "import pandas as pd\n",
    "import numpy as np\n",
    "import matplotlib.pyplot as plt\n",
    "%matplotlib inline"
   ]
  },
  {
   "cell_type": "code",
   "execution_count": 198,
   "metadata": {
    "collapsed": false
   },
   "outputs": [],
   "source": [
    "# opening the csv file, and naming it movies\n",
    "\n",
    "with open('dataset.csv') as f:\n",
    "    movies = pd.read_csv(f)"
   ]
  },
  {
   "cell_type": "code",
   "execution_count": 199,
   "metadata": {
    "collapsed": false
   },
   "outputs": [
    {
     "data": {
      "text/plain": [
       "audience_freshness      int64\n",
       "poster_url             object\n",
       "rt_audience_score     float64\n",
       "rt_freshness            int64\n",
       "rt_score              float64\n",
       "2015_inflation         object\n",
       "adjusted              float64\n",
       "genres                 object\n",
       "Genre_1                object\n",
       "Genre_2                object\n",
       "Genre_3                object\n",
       "imdb_rating           float64\n",
       "length                  int64\n",
       "rank_in_year            int64\n",
       "rating                 object\n",
       "release_date           object\n",
       "studio                 object\n",
       "studio_1               object\n",
       "studio_2               object\n",
       "studio_3               object\n",
       "title                  object\n",
       "worldwide_gross         int64\n",
       "year                    int64\n",
       "Oscar                   int64\n",
       "dtype: object"
      ]
     },
     "execution_count": 199,
     "metadata": {},
     "output_type": "execute_result"
    }
   ],
   "source": [
    "movies.dtypes  # structure of columns"
   ]
  },
  {
   "cell_type": "code",
   "execution_count": 200,
   "metadata": {
    "collapsed": false
   },
   "outputs": [
    {
     "data": {
      "text/html": [
       "<div>\n",
       "<table border=\"1\" class=\"dataframe\">\n",
       "  <thead>\n",
       "    <tr style=\"text-align: right;\">\n",
       "      <th></th>\n",
       "      <th>audience_freshness</th>\n",
       "      <th>poster_url</th>\n",
       "      <th>rt_audience_score</th>\n",
       "      <th>rt_freshness</th>\n",
       "      <th>rt_score</th>\n",
       "      <th>2015_inflation</th>\n",
       "      <th>adjusted</th>\n",
       "      <th>genres</th>\n",
       "      <th>Genre_1</th>\n",
       "      <th>Genre_2</th>\n",
       "      <th>...</th>\n",
       "      <th>rating</th>\n",
       "      <th>release_date</th>\n",
       "      <th>studio</th>\n",
       "      <th>studio_1</th>\n",
       "      <th>studio_2</th>\n",
       "      <th>studio_3</th>\n",
       "      <th>title</th>\n",
       "      <th>worldwide_gross</th>\n",
       "      <th>year</th>\n",
       "      <th>Oscar</th>\n",
       "    </tr>\n",
       "  </thead>\n",
       "  <tbody>\n",
       "    <tr>\n",
       "      <th>387</th>\n",
       "      <td>89</td>\n",
       "      <td>https://data.opendatasoft.com/api/datasets/1.0...</td>\n",
       "      <td>3.6</td>\n",
       "      <td>96</td>\n",
       "      <td>8.3</td>\n",
       "      <td>186.55%</td>\n",
       "      <td>2.391379e+08</td>\n",
       "      <td>Comedy</td>\n",
       "      <td>Comedy</td>\n",
       "      <td>NaN</td>\n",
       "      <td>...</td>\n",
       "      <td>PG</td>\n",
       "      <td>7/2/80</td>\n",
       "      <td>Paramount Pictures</td>\n",
       "      <td>Paramount</td>\n",
       "      <td>NaN</td>\n",
       "      <td>NaN</td>\n",
       "      <td>Airplane!</td>\n",
       "      <td>83453539</td>\n",
       "      <td>1980</td>\n",
       "      <td>0</td>\n",
       "    </tr>\n",
       "    <tr>\n",
       "      <th>388</th>\n",
       "      <td>60</td>\n",
       "      <td>https://data.opendatasoft.com/api/datasets/1.0...</td>\n",
       "      <td>3.0</td>\n",
       "      <td>88</td>\n",
       "      <td>6.8</td>\n",
       "      <td>186.55%</td>\n",
       "      <td>2.001491e+08</td>\n",
       "      <td>War,Comedy</td>\n",
       "      <td>War</td>\n",
       "      <td>Comedy</td>\n",
       "      <td>...</td>\n",
       "      <td>R</td>\n",
       "      <td>10/10/80</td>\n",
       "      <td>Warner Bros.</td>\n",
       "      <td>WarnerBros</td>\n",
       "      <td>NaN</td>\n",
       "      <td>NaN</td>\n",
       "      <td>Private Benjamin</td>\n",
       "      <td>69847348</td>\n",
       "      <td>1980</td>\n",
       "      <td>0</td>\n",
       "    </tr>\n",
       "    <tr>\n",
       "      <th>389</th>\n",
       "      <td>88</td>\n",
       "      <td>https://data.opendatasoft.com/api/datasets/1.0...</td>\n",
       "      <td>3.7</td>\n",
       "      <td>79</td>\n",
       "      <td>6.6</td>\n",
       "      <td>262.15%</td>\n",
       "      <td>5.793566e+08</td>\n",
       "      <td>Romance,Musical</td>\n",
       "      <td>Romance</td>\n",
       "      <td>Musical</td>\n",
       "      <td>...</td>\n",
       "      <td>PG-13</td>\n",
       "      <td>6/16/78</td>\n",
       "      <td>Paramount Pictures</td>\n",
       "      <td>Paramount</td>\n",
       "      <td>NaN</td>\n",
       "      <td>NaN</td>\n",
       "      <td>Grease</td>\n",
       "      <td>159978870</td>\n",
       "      <td>1978</td>\n",
       "      <td>0</td>\n",
       "    </tr>\n",
       "    <tr>\n",
       "      <th>390</th>\n",
       "      <td>38</td>\n",
       "      <td>https://data.opendatasoft.com/api/datasets/1.0...</td>\n",
       "      <td>2.8</td>\n",
       "      <td>53</td>\n",
       "      <td>5.3</td>\n",
       "      <td>262.15%</td>\n",
       "      <td>2.815222e+08</td>\n",
       "      <td>Thriller,Horror</td>\n",
       "      <td>Thriller</td>\n",
       "      <td>Horror</td>\n",
       "      <td>...</td>\n",
       "      <td>PG</td>\n",
       "      <td>6/16/78</td>\n",
       "      <td>Universal Pictures</td>\n",
       "      <td>Universal</td>\n",
       "      <td>NaN</td>\n",
       "      <td>NaN</td>\n",
       "      <td>Jaws 2</td>\n",
       "      <td>77737272</td>\n",
       "      <td>1978</td>\n",
       "      <td>0</td>\n",
       "    </tr>\n",
       "    <tr>\n",
       "      <th>391</th>\n",
       "      <td>89</td>\n",
       "      <td>https://data.opendatasoft.com/api/datasets/1.0...</td>\n",
       "      <td>3.7</td>\n",
       "      <td>91</td>\n",
       "      <td>7.7</td>\n",
       "      <td>262.15%</td>\n",
       "      <td>4.349048e+08</td>\n",
       "      <td>Comedy</td>\n",
       "      <td>Comedy</td>\n",
       "      <td>NaN</td>\n",
       "      <td>...</td>\n",
       "      <td>R</td>\n",
       "      <td>7/28/78</td>\n",
       "      <td>Universal Pictures</td>\n",
       "      <td>Universal</td>\n",
       "      <td>NaN</td>\n",
       "      <td>NaN</td>\n",
       "      <td>National Lampoon's Animal House</td>\n",
       "      <td>120091123</td>\n",
       "      <td>1978</td>\n",
       "      <td>0</td>\n",
       "    </tr>\n",
       "    <tr>\n",
       "      <th>392</th>\n",
       "      <td>59</td>\n",
       "      <td>https://data.opendatasoft.com/api/datasets/1.0...</td>\n",
       "      <td>3.2</td>\n",
       "      <td>71</td>\n",
       "      <td>6.1</td>\n",
       "      <td>289.64%</td>\n",
       "      <td>1.989525e+08</td>\n",
       "      <td>Fantasy,Comedy</td>\n",
       "      <td>Fantasy</td>\n",
       "      <td>Comedy</td>\n",
       "      <td>...</td>\n",
       "      <td>PG</td>\n",
       "      <td>10/7/77</td>\n",
       "      <td>Warner Bros.</td>\n",
       "      <td>WarnerBros</td>\n",
       "      <td>NaN</td>\n",
       "      <td>NaN</td>\n",
       "      <td>Oh, God!</td>\n",
       "      <td>51061196</td>\n",
       "      <td>1977</td>\n",
       "      <td>0</td>\n",
       "    </tr>\n",
       "    <tr>\n",
       "      <th>393</th>\n",
       "      <td>85</td>\n",
       "      <td>https://data.opendatasoft.com/api/datasets/1.0...</td>\n",
       "      <td>3.4</td>\n",
       "      <td>81</td>\n",
       "      <td>6.3</td>\n",
       "      <td>289.64%</td>\n",
       "      <td>4.938138e+08</td>\n",
       "      <td>Romance,Comedy,Action</td>\n",
       "      <td>Romance</td>\n",
       "      <td>Comedy</td>\n",
       "      <td>...</td>\n",
       "      <td>PG</td>\n",
       "      <td>5/27/77</td>\n",
       "      <td>Universal Pictures</td>\n",
       "      <td>Universal</td>\n",
       "      <td>NaN</td>\n",
       "      <td>NaN</td>\n",
       "      <td>Smokey and the Bandit</td>\n",
       "      <td>126737428</td>\n",
       "      <td>1977</td>\n",
       "      <td>0</td>\n",
       "    </tr>\n",
       "    <tr>\n",
       "      <th>394</th>\n",
       "      <td>96</td>\n",
       "      <td>https://data.opendatasoft.com/api/datasets/1.0...</td>\n",
       "      <td>4.1</td>\n",
       "      <td>93</td>\n",
       "      <td>8.3</td>\n",
       "      <td>289.64%</td>\n",
       "      <td>1.197208e+09</td>\n",
       "      <td>Fantasy,Adventure,Action</td>\n",
       "      <td>Fantasy</td>\n",
       "      <td>Adventure</td>\n",
       "      <td>...</td>\n",
       "      <td>PG</td>\n",
       "      <td>5/25/77</td>\n",
       "      <td>Lucasfilm / 20th Century Fox</td>\n",
       "      <td>Lucasfilm</td>\n",
       "      <td>20thCenturyFox</td>\n",
       "      <td>NaN</td>\n",
       "      <td>Star Wars</td>\n",
       "      <td>307263857</td>\n",
       "      <td>1977</td>\n",
       "      <td>0</td>\n",
       "    </tr>\n",
       "    <tr>\n",
       "      <th>395</th>\n",
       "      <td>71</td>\n",
       "      <td>https://data.opendatasoft.com/api/datasets/1.0...</td>\n",
       "      <td>3.6</td>\n",
       "      <td>54</td>\n",
       "      <td>5.9</td>\n",
       "      <td>314.97%</td>\n",
       "      <td>1.793508e+08</td>\n",
       "      <td>History,Drama,Action</td>\n",
       "      <td>History</td>\n",
       "      <td>Drama</td>\n",
       "      <td>...</td>\n",
       "      <td>PG</td>\n",
       "      <td>6/18/76</td>\n",
       "      <td>Universal Studios / Cinema International Corpo...</td>\n",
       "      <td>Universal</td>\n",
       "      <td>CinemaInternationalCorporation</td>\n",
       "      <td>NaN</td>\n",
       "      <td>Midway</td>\n",
       "      <td>43220000</td>\n",
       "      <td>1976</td>\n",
       "      <td>0</td>\n",
       "    </tr>\n",
       "    <tr>\n",
       "      <th>396</th>\n",
       "      <td>68</td>\n",
       "      <td>https://data.opendatasoft.com/api/datasets/1.0...</td>\n",
       "      <td>3.2</td>\n",
       "      <td>92</td>\n",
       "      <td>8.3</td>\n",
       "      <td>314.97%</td>\n",
       "      <td>4.864929e+08</td>\n",
       "      <td>Sport,Drama</td>\n",
       "      <td>Sport</td>\n",
       "      <td>Drama</td>\n",
       "      <td>...</td>\n",
       "      <td>PG</td>\n",
       "      <td>12/3/76</td>\n",
       "      <td>United Artists Pictures</td>\n",
       "      <td>UnitedArtists</td>\n",
       "      <td>NaN</td>\n",
       "      <td>NaN</td>\n",
       "      <td>Rocky</td>\n",
       "      <td>117235147</td>\n",
       "      <td>1976</td>\n",
       "      <td>1</td>\n",
       "    </tr>\n",
       "  </tbody>\n",
       "</table>\n",
       "<p>10 rows × 24 columns</p>\n",
       "</div>"
      ],
      "text/plain": [
       "     audience_freshness                                         poster_url  \\\n",
       "387                  89  https://data.opendatasoft.com/api/datasets/1.0...   \n",
       "388                  60  https://data.opendatasoft.com/api/datasets/1.0...   \n",
       "389                  88  https://data.opendatasoft.com/api/datasets/1.0...   \n",
       "390                  38  https://data.opendatasoft.com/api/datasets/1.0...   \n",
       "391                  89  https://data.opendatasoft.com/api/datasets/1.0...   \n",
       "392                  59  https://data.opendatasoft.com/api/datasets/1.0...   \n",
       "393                  85  https://data.opendatasoft.com/api/datasets/1.0...   \n",
       "394                  96  https://data.opendatasoft.com/api/datasets/1.0...   \n",
       "395                  71  https://data.opendatasoft.com/api/datasets/1.0...   \n",
       "396                  68  https://data.opendatasoft.com/api/datasets/1.0...   \n",
       "\n",
       "     rt_audience_score  rt_freshness  rt_score 2015_inflation      adjusted  \\\n",
       "387                3.6            96       8.3        186.55%  2.391379e+08   \n",
       "388                3.0            88       6.8        186.55%  2.001491e+08   \n",
       "389                3.7            79       6.6        262.15%  5.793566e+08   \n",
       "390                2.8            53       5.3        262.15%  2.815222e+08   \n",
       "391                3.7            91       7.7        262.15%  4.349048e+08   \n",
       "392                3.2            71       6.1        289.64%  1.989525e+08   \n",
       "393                3.4            81       6.3        289.64%  4.938138e+08   \n",
       "394                4.1            93       8.3        289.64%  1.197208e+09   \n",
       "395                3.6            54       5.9        314.97%  1.793508e+08   \n",
       "396                3.2            92       8.3        314.97%  4.864929e+08   \n",
       "\n",
       "                       genres   Genre_1    Genre_2  ...  rating  release_date  \\\n",
       "387                    Comedy    Comedy        NaN  ...      PG        7/2/80   \n",
       "388                War,Comedy       War     Comedy  ...       R      10/10/80   \n",
       "389           Romance,Musical   Romance    Musical  ...   PG-13       6/16/78   \n",
       "390           Thriller,Horror  Thriller     Horror  ...      PG       6/16/78   \n",
       "391                    Comedy    Comedy        NaN  ...       R       7/28/78   \n",
       "392            Fantasy,Comedy   Fantasy     Comedy  ...      PG       10/7/77   \n",
       "393     Romance,Comedy,Action   Romance     Comedy  ...      PG       5/27/77   \n",
       "394  Fantasy,Adventure,Action   Fantasy  Adventure  ...      PG       5/25/77   \n",
       "395      History,Drama,Action   History      Drama  ...      PG       6/18/76   \n",
       "396               Sport,Drama     Sport      Drama  ...      PG       12/3/76   \n",
       "\n",
       "                                                studio       studio_1  \\\n",
       "387                                 Paramount Pictures      Paramount   \n",
       "388                                       Warner Bros.     WarnerBros   \n",
       "389                                 Paramount Pictures      Paramount   \n",
       "390                                 Universal Pictures      Universal   \n",
       "391                                 Universal Pictures      Universal   \n",
       "392                                       Warner Bros.     WarnerBros   \n",
       "393                                 Universal Pictures      Universal   \n",
       "394                       Lucasfilm / 20th Century Fox      Lucasfilm   \n",
       "395  Universal Studios / Cinema International Corpo...      Universal   \n",
       "396                            United Artists Pictures  UnitedArtists   \n",
       "\n",
       "                           studio_2 studio_3                            title  \\\n",
       "387                             NaN      NaN                        Airplane!   \n",
       "388                             NaN      NaN                 Private Benjamin   \n",
       "389                             NaN      NaN                           Grease   \n",
       "390                             NaN      NaN                           Jaws 2   \n",
       "391                             NaN      NaN  National Lampoon's Animal House   \n",
       "392                             NaN      NaN                         Oh, God!   \n",
       "393                             NaN      NaN            Smokey and the Bandit   \n",
       "394                  20thCenturyFox      NaN                        Star Wars   \n",
       "395  CinemaInternationalCorporation      NaN                           Midway   \n",
       "396                             NaN      NaN                            Rocky   \n",
       "\n",
       "    worldwide_gross  year Oscar  \n",
       "387        83453539  1980     0  \n",
       "388        69847348  1980     0  \n",
       "389       159978870  1978     0  \n",
       "390        77737272  1978     0  \n",
       "391       120091123  1978     0  \n",
       "392        51061196  1977     0  \n",
       "393       126737428  1977     0  \n",
       "394       307263857  1977     0  \n",
       "395        43220000  1976     0  \n",
       "396       117235147  1976     1  \n",
       "\n",
       "[10 rows x 24 columns]"
      ]
     },
     "execution_count": 200,
     "metadata": {},
     "output_type": "execute_result"
    }
   ],
   "source": [
    "movies.tail(10)# viewing the last 10 observations"
   ]
  },
  {
   "cell_type": "code",
   "execution_count": 201,
   "metadata": {
    "collapsed": false
   },
   "outputs": [
    {
     "data": {
      "text/plain": [
       "(397, 24)"
      ]
     },
     "execution_count": 201,
     "metadata": {},
     "output_type": "execute_result"
    }
   ],
   "source": [
    "movies.shape"
   ]
  },
  {
   "cell_type": "code",
   "execution_count": 202,
   "metadata": {
    "collapsed": false
   },
   "outputs": [
    {
     "data": {
      "text/plain": [
       "WarnerBros        72\n",
       "Paramount         57\n",
       "Universal         47\n",
       "20thCenturyFox    45\n",
       "Disney            36\n",
       "Columbia          35\n",
       "UnitedArtists     17\n",
       "TriStar           14\n",
       "Touchstone        12\n",
       "DreamWorks        12\n",
       "Other             12\n",
       "MGM                9\n",
       "NewLine            8\n",
       "Orion              6\n",
       "Marvel             5\n",
       "Lionsgate          4\n",
       "Lucasfilm          2\n",
       "Hollywood          2\n",
       "Summit             2\n",
       "Name: studio_1, dtype: int64"
      ]
     },
     "execution_count": 202,
     "metadata": {},
     "output_type": "execute_result"
    }
   ],
   "source": [
    "movies['studio_1'].value_counts() # list of different Genre"
   ]
  },
  {
   "cell_type": "code",
   "execution_count": 203,
   "metadata": {
    "collapsed": false
   },
   "outputs": [],
   "source": [
    "# Creating dummy columns for each genre, movies typically have more than one genre\n",
    "# to be able to analyze correctly made a column for each genre. saving them as factor variables\n",
    "\n",
    "movies['Thriller']=np.where((movies['Genre_1'] =='Thriller') | (movies['Genre_2'] =='Thriller')| (movies['Genre_3'] =='Thriller'),1,0).astype(int)\n",
    "movies['Comedy']=np.where((movies['Genre_1'] =='Comedy') | (movies['Genre_2'] =='Comedy')| (movies['Genre_3'] =='Comedy'),1,0).astype(int)\n",
    "movies['Fantasy']=np.where((movies['Genre_1'] =='Fantasy') | (movies['Genre_2'] =='Fantasy')| (movies['Genre_3'] =='Fantasy'),1,0).astype(int)\n",
    "movies['Sci-Fi']=np.where((movies['Genre_1'] =='Sci-Fi') | (movies['Genre_2'] =='Sci-Fi')| (movies['Genre_3'] =='Sci-Fi'),1,0).astype(int)\n",
    "movies['Romance']=np.where((movies['Genre_1'] =='Romance') | (movies['Genre_2'] =='Romance')| (movies['Genre_3'] =='Romance'),1,0).astype(int)\n",
    "movies['Drama']=np.where((movies['Genre_1'] =='Drama') | (movies['Genre_2'] =='Drama')| (movies['Genre_3'] =='Drama'),1,0).astype(int)\n",
    "movies['Family']=np.where((movies['Genre_1'] =='Family') | (movies['Genre_2'] =='Family')| (movies['Genre_3'] =='Family'),1,0).astype(int)\n",
    "movies['Crime']=np.where((movies['Genre_1'] =='Crime') | (movies['Genre_2'] =='Crime')| (movies['Genre_3'] =='Crime'),1,0).astype(int)\n",
    "movies['Adventure']=np.where((movies['Genre_1'] =='Adventure') | (movies['Genre_2'] =='Adventure')| (movies['Genre_3'] =='Adventure'),1,0).astype(int)\n",
    "movies['War']=np.where((movies['Genre_1'] =='War') | (movies['Genre_2'] =='War')| (movies['Genre_3'] =='War'),1,0).astype(int)\n",
    "movies['Mystery']=np.where((movies['Genre_1'] =='Mystery') | (movies['Genre_2'] =='Mystery')| (movies['Genre_3'] =='Mystery'),1,0).astype(int)\n",
    "movies['Sport']=np.where((movies['Genre_1'] =='Sport') | (movies['Genre_2'] =='Sport')| (movies['Genre_3'] =='Sport'),1,0).astype(int)\n",
    "movies['Horror']=np.where((movies['Genre_1'] =='Horror') | (movies['Genre_2'] =='Horror')| (movies['Genre_3'] =='Horror'),1,0).astype(int)\n",
    "movies['Animation']=np.where((movies['Genre_1'] =='Animation') | (movies['Genre_2'] =='Animation')| (movies['Genre_3'] =='Animation'),1,0).astype(int)\n",
    "movies['Music']=np.where((movies['Genre_1'] =='Music') | (movies['Genre_2'] =='Music')| (movies['Genre_3'] =='Music'),1,0).astype(int)\n",
    "movies['History']=np.where((movies['Genre_1'] =='History') | (movies['Genre_2'] =='History')| (movies['Genre_3'] =='History'),1,0).astype(int)\n",
    "movies['Action']=np.where((movies['Genre_1'] =='Action') | (movies['Genre_2'] =='Action')| (movies['Genre_3'] =='Action'),1,0).astype(int)\n",
    "movies['Western']=np.where((movies['Genre_1'] =='Western') | (movies['Genre_2'] =='Western')| (movies['Genre_3'] =='Western'),1,0).astype(int)\n",
    "movies['Musical']=np.where((movies['Genre_1'] =='Musical') | (movies['Genre_2'] =='Musical')| (movies['Genre_3'] =='Musical'),1,0).astype(int)\n",
    "movies['Biography']=np.where((movies['Genre_1'] =='Biography') | (movies['Genre_2'] =='Biography')| (movies['Genre_3'] =='Biography'),1,0).astype(int)\n",
    "\n",
    "\n",
    "#movies['PG-13']=np.where((movies['rating'] =='PG-13'),1,0).astype(int)\n",
    "#movies['PG']=np.where((movies['rating'] =='PG'),1,0).astype(int)\n",
    "#movies['R']=np.where((movies['rating'] =='R'),1,0).astype(int)\n",
    "#movies['G']=np.where((movies['rating'] =='G'),1,0).astype(int)\n",
    "\n",
    "movies['rating2'] = movies['rating'].map({'PG-13': 1, 'PG': 2, 'R': 3, 'G': 4})"
   ]
  },
  {
   "cell_type": "code",
   "execution_count": null,
   "metadata": {
    "collapsed": false
   },
   "outputs": [],
   "source": [
    "\n"
   ]
  },
  {
   "cell_type": "code",
   "execution_count": 204,
   "metadata": {
    "collapsed": false
   },
   "outputs": [
    {
     "data": {
      "text/plain": [
       "PG-13    146\n",
       "PG       127\n",
       "R         98\n",
       "G         26\n",
       "Name: rating, dtype: int64"
      ]
     },
     "execution_count": 204,
     "metadata": {},
     "output_type": "execute_result"
    }
   ],
   "source": [
    "movies['rating'].value_counts() # list of different Genre"
   ]
  },
  {
   "cell_type": "code",
   "execution_count": 205,
   "metadata": {
    "collapsed": false
   },
   "outputs": [
    {
     "data": {
      "text/html": [
       "<div>\n",
       "<table border=\"1\" class=\"dataframe\">\n",
       "  <thead>\n",
       "    <tr style=\"text-align: right;\">\n",
       "      <th></th>\n",
       "      <th>audience_freshness</th>\n",
       "      <th>poster_url</th>\n",
       "      <th>rt_audience_score</th>\n",
       "      <th>rt_freshness</th>\n",
       "      <th>rt_score</th>\n",
       "      <th>2015_inflation</th>\n",
       "      <th>adjusted</th>\n",
       "      <th>genres</th>\n",
       "      <th>Genre_1</th>\n",
       "      <th>Genre_2</th>\n",
       "      <th>...</th>\n",
       "      <th>Sport</th>\n",
       "      <th>Horror</th>\n",
       "      <th>Animation</th>\n",
       "      <th>Music</th>\n",
       "      <th>History</th>\n",
       "      <th>Action</th>\n",
       "      <th>Western</th>\n",
       "      <th>Musical</th>\n",
       "      <th>Biography</th>\n",
       "      <th>rating2</th>\n",
       "    </tr>\n",
       "  </thead>\n",
       "  <tbody>\n",
       "    <tr>\n",
       "      <th>387</th>\n",
       "      <td>89</td>\n",
       "      <td>https://data.opendatasoft.com/api/datasets/1.0...</td>\n",
       "      <td>3.6</td>\n",
       "      <td>96</td>\n",
       "      <td>8.3</td>\n",
       "      <td>186.55%</td>\n",
       "      <td>2.391379e+08</td>\n",
       "      <td>Comedy</td>\n",
       "      <td>Comedy</td>\n",
       "      <td>NaN</td>\n",
       "      <td>...</td>\n",
       "      <td>0</td>\n",
       "      <td>0</td>\n",
       "      <td>0</td>\n",
       "      <td>0</td>\n",
       "      <td>0</td>\n",
       "      <td>0</td>\n",
       "      <td>0</td>\n",
       "      <td>0</td>\n",
       "      <td>0</td>\n",
       "      <td>2</td>\n",
       "    </tr>\n",
       "    <tr>\n",
       "      <th>388</th>\n",
       "      <td>60</td>\n",
       "      <td>https://data.opendatasoft.com/api/datasets/1.0...</td>\n",
       "      <td>3.0</td>\n",
       "      <td>88</td>\n",
       "      <td>6.8</td>\n",
       "      <td>186.55%</td>\n",
       "      <td>2.001491e+08</td>\n",
       "      <td>War,Comedy</td>\n",
       "      <td>War</td>\n",
       "      <td>Comedy</td>\n",
       "      <td>...</td>\n",
       "      <td>0</td>\n",
       "      <td>0</td>\n",
       "      <td>0</td>\n",
       "      <td>0</td>\n",
       "      <td>0</td>\n",
       "      <td>0</td>\n",
       "      <td>0</td>\n",
       "      <td>0</td>\n",
       "      <td>0</td>\n",
       "      <td>3</td>\n",
       "    </tr>\n",
       "    <tr>\n",
       "      <th>389</th>\n",
       "      <td>88</td>\n",
       "      <td>https://data.opendatasoft.com/api/datasets/1.0...</td>\n",
       "      <td>3.7</td>\n",
       "      <td>79</td>\n",
       "      <td>6.6</td>\n",
       "      <td>262.15%</td>\n",
       "      <td>5.793566e+08</td>\n",
       "      <td>Romance,Musical</td>\n",
       "      <td>Romance</td>\n",
       "      <td>Musical</td>\n",
       "      <td>...</td>\n",
       "      <td>0</td>\n",
       "      <td>0</td>\n",
       "      <td>0</td>\n",
       "      <td>0</td>\n",
       "      <td>0</td>\n",
       "      <td>0</td>\n",
       "      <td>0</td>\n",
       "      <td>1</td>\n",
       "      <td>0</td>\n",
       "      <td>1</td>\n",
       "    </tr>\n",
       "    <tr>\n",
       "      <th>390</th>\n",
       "      <td>38</td>\n",
       "      <td>https://data.opendatasoft.com/api/datasets/1.0...</td>\n",
       "      <td>2.8</td>\n",
       "      <td>53</td>\n",
       "      <td>5.3</td>\n",
       "      <td>262.15%</td>\n",
       "      <td>2.815222e+08</td>\n",
       "      <td>Thriller,Horror</td>\n",
       "      <td>Thriller</td>\n",
       "      <td>Horror</td>\n",
       "      <td>...</td>\n",
       "      <td>0</td>\n",
       "      <td>1</td>\n",
       "      <td>0</td>\n",
       "      <td>0</td>\n",
       "      <td>0</td>\n",
       "      <td>0</td>\n",
       "      <td>0</td>\n",
       "      <td>0</td>\n",
       "      <td>0</td>\n",
       "      <td>2</td>\n",
       "    </tr>\n",
       "    <tr>\n",
       "      <th>391</th>\n",
       "      <td>89</td>\n",
       "      <td>https://data.opendatasoft.com/api/datasets/1.0...</td>\n",
       "      <td>3.7</td>\n",
       "      <td>91</td>\n",
       "      <td>7.7</td>\n",
       "      <td>262.15%</td>\n",
       "      <td>4.349048e+08</td>\n",
       "      <td>Comedy</td>\n",
       "      <td>Comedy</td>\n",
       "      <td>NaN</td>\n",
       "      <td>...</td>\n",
       "      <td>0</td>\n",
       "      <td>0</td>\n",
       "      <td>0</td>\n",
       "      <td>0</td>\n",
       "      <td>0</td>\n",
       "      <td>0</td>\n",
       "      <td>0</td>\n",
       "      <td>0</td>\n",
       "      <td>0</td>\n",
       "      <td>3</td>\n",
       "    </tr>\n",
       "    <tr>\n",
       "      <th>392</th>\n",
       "      <td>59</td>\n",
       "      <td>https://data.opendatasoft.com/api/datasets/1.0...</td>\n",
       "      <td>3.2</td>\n",
       "      <td>71</td>\n",
       "      <td>6.1</td>\n",
       "      <td>289.64%</td>\n",
       "      <td>1.989525e+08</td>\n",
       "      <td>Fantasy,Comedy</td>\n",
       "      <td>Fantasy</td>\n",
       "      <td>Comedy</td>\n",
       "      <td>...</td>\n",
       "      <td>0</td>\n",
       "      <td>0</td>\n",
       "      <td>0</td>\n",
       "      <td>0</td>\n",
       "      <td>0</td>\n",
       "      <td>0</td>\n",
       "      <td>0</td>\n",
       "      <td>0</td>\n",
       "      <td>0</td>\n",
       "      <td>2</td>\n",
       "    </tr>\n",
       "    <tr>\n",
       "      <th>393</th>\n",
       "      <td>85</td>\n",
       "      <td>https://data.opendatasoft.com/api/datasets/1.0...</td>\n",
       "      <td>3.4</td>\n",
       "      <td>81</td>\n",
       "      <td>6.3</td>\n",
       "      <td>289.64%</td>\n",
       "      <td>4.938138e+08</td>\n",
       "      <td>Romance,Comedy,Action</td>\n",
       "      <td>Romance</td>\n",
       "      <td>Comedy</td>\n",
       "      <td>...</td>\n",
       "      <td>0</td>\n",
       "      <td>0</td>\n",
       "      <td>0</td>\n",
       "      <td>0</td>\n",
       "      <td>0</td>\n",
       "      <td>1</td>\n",
       "      <td>0</td>\n",
       "      <td>0</td>\n",
       "      <td>0</td>\n",
       "      <td>2</td>\n",
       "    </tr>\n",
       "    <tr>\n",
       "      <th>394</th>\n",
       "      <td>96</td>\n",
       "      <td>https://data.opendatasoft.com/api/datasets/1.0...</td>\n",
       "      <td>4.1</td>\n",
       "      <td>93</td>\n",
       "      <td>8.3</td>\n",
       "      <td>289.64%</td>\n",
       "      <td>1.197208e+09</td>\n",
       "      <td>Fantasy,Adventure,Action</td>\n",
       "      <td>Fantasy</td>\n",
       "      <td>Adventure</td>\n",
       "      <td>...</td>\n",
       "      <td>0</td>\n",
       "      <td>0</td>\n",
       "      <td>0</td>\n",
       "      <td>0</td>\n",
       "      <td>0</td>\n",
       "      <td>1</td>\n",
       "      <td>0</td>\n",
       "      <td>0</td>\n",
       "      <td>0</td>\n",
       "      <td>2</td>\n",
       "    </tr>\n",
       "    <tr>\n",
       "      <th>395</th>\n",
       "      <td>71</td>\n",
       "      <td>https://data.opendatasoft.com/api/datasets/1.0...</td>\n",
       "      <td>3.6</td>\n",
       "      <td>54</td>\n",
       "      <td>5.9</td>\n",
       "      <td>314.97%</td>\n",
       "      <td>1.793508e+08</td>\n",
       "      <td>History,Drama,Action</td>\n",
       "      <td>History</td>\n",
       "      <td>Drama</td>\n",
       "      <td>...</td>\n",
       "      <td>0</td>\n",
       "      <td>0</td>\n",
       "      <td>0</td>\n",
       "      <td>0</td>\n",
       "      <td>1</td>\n",
       "      <td>1</td>\n",
       "      <td>0</td>\n",
       "      <td>0</td>\n",
       "      <td>0</td>\n",
       "      <td>2</td>\n",
       "    </tr>\n",
       "    <tr>\n",
       "      <th>396</th>\n",
       "      <td>68</td>\n",
       "      <td>https://data.opendatasoft.com/api/datasets/1.0...</td>\n",
       "      <td>3.2</td>\n",
       "      <td>92</td>\n",
       "      <td>8.3</td>\n",
       "      <td>314.97%</td>\n",
       "      <td>4.864929e+08</td>\n",
       "      <td>Sport,Drama</td>\n",
       "      <td>Sport</td>\n",
       "      <td>Drama</td>\n",
       "      <td>...</td>\n",
       "      <td>1</td>\n",
       "      <td>0</td>\n",
       "      <td>0</td>\n",
       "      <td>0</td>\n",
       "      <td>0</td>\n",
       "      <td>0</td>\n",
       "      <td>0</td>\n",
       "      <td>0</td>\n",
       "      <td>0</td>\n",
       "      <td>2</td>\n",
       "    </tr>\n",
       "  </tbody>\n",
       "</table>\n",
       "<p>10 rows × 45 columns</p>\n",
       "</div>"
      ],
      "text/plain": [
       "     audience_freshness                                         poster_url  \\\n",
       "387                  89  https://data.opendatasoft.com/api/datasets/1.0...   \n",
       "388                  60  https://data.opendatasoft.com/api/datasets/1.0...   \n",
       "389                  88  https://data.opendatasoft.com/api/datasets/1.0...   \n",
       "390                  38  https://data.opendatasoft.com/api/datasets/1.0...   \n",
       "391                  89  https://data.opendatasoft.com/api/datasets/1.0...   \n",
       "392                  59  https://data.opendatasoft.com/api/datasets/1.0...   \n",
       "393                  85  https://data.opendatasoft.com/api/datasets/1.0...   \n",
       "394                  96  https://data.opendatasoft.com/api/datasets/1.0...   \n",
       "395                  71  https://data.opendatasoft.com/api/datasets/1.0...   \n",
       "396                  68  https://data.opendatasoft.com/api/datasets/1.0...   \n",
       "\n",
       "     rt_audience_score  rt_freshness  rt_score 2015_inflation      adjusted  \\\n",
       "387                3.6            96       8.3        186.55%  2.391379e+08   \n",
       "388                3.0            88       6.8        186.55%  2.001491e+08   \n",
       "389                3.7            79       6.6        262.15%  5.793566e+08   \n",
       "390                2.8            53       5.3        262.15%  2.815222e+08   \n",
       "391                3.7            91       7.7        262.15%  4.349048e+08   \n",
       "392                3.2            71       6.1        289.64%  1.989525e+08   \n",
       "393                3.4            81       6.3        289.64%  4.938138e+08   \n",
       "394                4.1            93       8.3        289.64%  1.197208e+09   \n",
       "395                3.6            54       5.9        314.97%  1.793508e+08   \n",
       "396                3.2            92       8.3        314.97%  4.864929e+08   \n",
       "\n",
       "                       genres   Genre_1    Genre_2   ...   Sport  Horror  \\\n",
       "387                    Comedy    Comedy        NaN   ...       0       0   \n",
       "388                War,Comedy       War     Comedy   ...       0       0   \n",
       "389           Romance,Musical   Romance    Musical   ...       0       0   \n",
       "390           Thriller,Horror  Thriller     Horror   ...       0       1   \n",
       "391                    Comedy    Comedy        NaN   ...       0       0   \n",
       "392            Fantasy,Comedy   Fantasy     Comedy   ...       0       0   \n",
       "393     Romance,Comedy,Action   Romance     Comedy   ...       0       0   \n",
       "394  Fantasy,Adventure,Action   Fantasy  Adventure   ...       0       0   \n",
       "395      History,Drama,Action   History      Drama   ...       0       0   \n",
       "396               Sport,Drama     Sport      Drama   ...       1       0   \n",
       "\n",
       "     Animation  Music History Action Western Musical Biography rating2  \n",
       "387          0      0       0      0       0       0         0       2  \n",
       "388          0      0       0      0       0       0         0       3  \n",
       "389          0      0       0      0       0       1         0       1  \n",
       "390          0      0       0      0       0       0         0       2  \n",
       "391          0      0       0      0       0       0         0       3  \n",
       "392          0      0       0      0       0       0         0       2  \n",
       "393          0      0       0      1       0       0         0       2  \n",
       "394          0      0       0      1       0       0         0       2  \n",
       "395          0      0       1      1       0       0         0       2  \n",
       "396          0      0       0      0       0       0         0       2  \n",
       "\n",
       "[10 rows x 45 columns]"
      ]
     },
     "execution_count": 205,
     "metadata": {},
     "output_type": "execute_result"
    }
   ],
   "source": [
    "movies.tail(10) # viewing the last ten observtions with the new columns, as a double check"
   ]
  },
  {
   "cell_type": "code",
   "execution_count": 206,
   "metadata": {
    "collapsed": false
   },
   "outputs": [
    {
     "data": {
      "text/plain": [
       "array(['audience_freshness', 'poster_url', 'rt_audience_score',\n",
       "       'rt_freshness', 'rt_score', '2015_inflation', 'adjusted', 'genres',\n",
       "       'Genre_1', 'Genre_2', 'Genre_3', 'imdb_rating', 'length',\n",
       "       'rank_in_year', 'rating', 'release_date', 'studio', 'studio_1',\n",
       "       'studio_2', 'studio_3', 'title', 'worldwide_gross', 'year', 'Oscar',\n",
       "       'Thriller', 'Comedy', 'Fantasy', 'Sci-Fi', 'Romance', 'Drama',\n",
       "       'Family', 'Crime', 'Adventure', 'War', 'Mystery', 'Sport', 'Horror',\n",
       "       'Animation', 'Music', 'History', 'Action', 'Western', 'Musical',\n",
       "       'Biography', 'rating2'], dtype=object)"
      ]
     },
     "execution_count": 206,
     "metadata": {},
     "output_type": "execute_result"
    }
   ],
   "source": [
    "movies.columns.values  # names of columns in movies"
   ]
  },
  {
   "cell_type": "code",
   "execution_count": 207,
   "metadata": {
    "collapsed": false
   },
   "outputs": [],
   "source": [
    "# Creating a subset dataframe, removing the 'poster_url' and original genre columns\n",
    "\n",
    "movies2=movies[['audience_freshness', 'rt_audience_score',\n",
    "       'rt_freshness', 'rt_score', '2015_inflation', 'adjusted', 'imdb_rating', 'length',\n",
    "       'rank_in_year', 'rating', 'release_date', 'studio_1', 'title', 'year',\n",
    "        'Oscar', 'Thriller', 'Comedy', 'Fantasy',\n",
    "       'Sci-Fi', 'Romance', 'Drama', 'Family', 'Crime', 'Adventure', 'War',\n",
    "       'Mystery', 'Sport', 'Horror', 'Animation', 'Music', 'History',\n",
    "       'Action', 'Western', 'Musical', 'Biography', 'rating2']]"
   ]
  },
  {
   "cell_type": "code",
   "execution_count": 208,
   "metadata": {
    "collapsed": false
   },
   "outputs": [
    {
     "data": {
      "text/plain": [
       "audience_freshness      int64\n",
       "rt_audience_score     float64\n",
       "rt_freshness            int64\n",
       "rt_score              float64\n",
       "2015_inflation         object\n",
       "adjusted              float64\n",
       "imdb_rating           float64\n",
       "length                  int64\n",
       "rank_in_year            int64\n",
       "rating                 object\n",
       "release_date           object\n",
       "studio_1               object\n",
       "title                  object\n",
       "year                    int64\n",
       "Oscar                   int64\n",
       "Thriller                int64\n",
       "Comedy                  int64\n",
       "Fantasy                 int64\n",
       "Sci-Fi                  int64\n",
       "Romance                 int64\n",
       "Drama                   int64\n",
       "Family                  int64\n",
       "Crime                   int64\n",
       "Adventure               int64\n",
       "War                     int64\n",
       "Mystery                 int64\n",
       "Sport                   int64\n",
       "Horror                  int64\n",
       "Animation               int64\n",
       "Music                   int64\n",
       "History                 int64\n",
       "Action                  int64\n",
       "Western                 int64\n",
       "Musical                 int64\n",
       "Biography               int64\n",
       "rating2                 int64\n",
       "dtype: object"
      ]
     },
     "execution_count": 208,
     "metadata": {},
     "output_type": "execute_result"
    }
   ],
   "source": [
    "movies2.dtypes  # structure of columns"
   ]
  },
  {
   "cell_type": "code",
   "execution_count": 209,
   "metadata": {
    "collapsed": false,
    "scrolled": true
   },
   "outputs": [
    {
     "name": "stderr",
     "output_type": "stream",
     "text": [
      "/Users/AlexandKelly/anaconda/lib/python2.7/site-packages/ipykernel/__main__.py:1: SettingWithCopyWarning: \n",
      "A value is trying to be set on a copy of a slice from a DataFrame.\n",
      "Try using .loc[row_indexer,col_indexer] = value instead\n",
      "\n",
      "See the caveats in the documentation: http://pandas.pydata.org/pandas-docs/stable/indexing.html#indexing-view-versus-copy\n",
      "  if __name__ == '__main__':\n",
      "/Users/AlexandKelly/anaconda/lib/python2.7/site-packages/ipykernel/__main__.py:2: SettingWithCopyWarning: \n",
      "A value is trying to be set on a copy of a slice from a DataFrame.\n",
      "Try using .loc[row_indexer,col_indexer] = value instead\n",
      "\n",
      "See the caveats in the documentation: http://pandas.pydata.org/pandas-docs/stable/indexing.html#indexing-view-versus-copy\n",
      "  from ipykernel import kernelapp as app\n"
     ]
    }
   ],
   "source": [
    "movies2['2015_inflation'] = movies2['2015_inflation'].str.replace('%','')# remove the % from the 2015 inflation\n",
    "movies2['2015_inflation']=movies2['2015_inflation'].astype(float)# changing inflation to a float number\n",
    "#movies2['release_date']=pd.to_datetime(movies2['release_date'])# changing release_date to a date"
   ]
  },
  {
   "cell_type": "code",
   "execution_count": 210,
   "metadata": {
    "collapsed": false
   },
   "outputs": [
    {
     "data": {
      "text/plain": [
       "audience_freshness      int64\n",
       "rt_audience_score     float64\n",
       "rt_freshness            int64\n",
       "rt_score              float64\n",
       "2015_inflation        float64\n",
       "adjusted              float64\n",
       "imdb_rating           float64\n",
       "length                  int64\n",
       "rank_in_year            int64\n",
       "rating                 object\n",
       "release_date           object\n",
       "studio_1               object\n",
       "title                  object\n",
       "year                    int64\n",
       "Oscar                   int64\n",
       "Thriller                int64\n",
       "Comedy                  int64\n",
       "Fantasy                 int64\n",
       "Sci-Fi                  int64\n",
       "Romance                 int64\n",
       "Drama                   int64\n",
       "Family                  int64\n",
       "Crime                   int64\n",
       "Adventure               int64\n",
       "War                     int64\n",
       "Mystery                 int64\n",
       "Sport                   int64\n",
       "Horror                  int64\n",
       "Animation               int64\n",
       "Music                   int64\n",
       "History                 int64\n",
       "Action                  int64\n",
       "Western                 int64\n",
       "Musical                 int64\n",
       "Biography               int64\n",
       "rating2                 int64\n",
       "dtype: object"
      ]
     },
     "execution_count": 210,
     "metadata": {},
     "output_type": "execute_result"
    }
   ],
   "source": [
    "movies2.dtypes  # structure of columns (checking the change has been made)"
   ]
  },
  {
   "cell_type": "code",
   "execution_count": null,
   "metadata": {
    "collapsed": true
   },
   "outputs": [],
   "source": []
  },
  {
   "cell_type": "code",
   "execution_count": 117,
   "metadata": {
    "collapsed": false
   },
   "outputs": [],
   "source": [
    "#movies2.to_csv('output.csv', index=False)#bc in pandas, can use this to create a csv file "
   ]
  },
  {
   "cell_type": "code",
   "execution_count": 211,
   "metadata": {
    "collapsed": false
   },
   "outputs": [
    {
     "data": {
      "text/plain": [
       "<matplotlib.axes._subplots.AxesSubplot at 0x11c5b80d0>"
      ]
     },
     "execution_count": 211,
     "metadata": {},
     "output_type": "execute_result"
    },
    {
     "data": {
      "image/png": "[encoded data removed]",
      "text/plain": [
       "<matplotlib.figure.Figure at 0x11c906c10>"
      ]
     },
     "metadata": {},
     "output_type": "display_data"
    }
   ],
   "source": [
    "movies2['length'].hist() "
   ]
  },
  {
   "cell_type": "code",
   "execution_count": 212,
   "metadata": {
    "collapsed": false
   },
   "outputs": [
    {
     "data": {
      "text/plain": [
       "<matplotlib.axes._subplots.AxesSubplot at 0x11c7a7e90>"
      ]
     },
     "execution_count": 212,
     "metadata": {},
     "output_type": "execute_result"
    },
    {
     "data": {
      "image/png": "[encoded data removed]",
      "text/plain": [
       "<matplotlib.figure.Figure at 0x11c660350>"
      ]
     },
     "metadata": {},
     "output_type": "display_data"
    }
   ],
   "source": [
    "#z=movies2['rank_in_year'].value_counts() \n",
    "movies2['adjusted'].hist() "
   ]
  },
  {
   "cell_type": "code",
   "execution_count": 213,
   "metadata": {
    "collapsed": false
   },
   "outputs": [
    {
     "data": {
      "text/plain": [
       "(397, 36)"
      ]
     },
     "execution_count": 213,
     "metadata": {},
     "output_type": "execute_result"
    }
   ],
   "source": [
    "movies2.shape"
   ]
  },
  {
   "cell_type": "code",
   "execution_count": 214,
   "metadata": {
    "collapsed": false
   },
   "outputs": [
    {
     "data": {
      "text/plain": [
       "audience_freshness      int64\n",
       "rt_audience_score     float64\n",
       "rt_freshness            int64\n",
       "rt_score              float64\n",
       "2015_inflation        float64\n",
       "adjusted              float64\n",
       "imdb_rating           float64\n",
       "length                  int64\n",
       "rank_in_year            int64\n",
       "rating                 object\n",
       "release_date           object\n",
       "studio_1               object\n",
       "title                  object\n",
       "year                    int64\n",
       "Oscar                   int64\n",
       "Thriller                int64\n",
       "Comedy                  int64\n",
       "Fantasy                 int64\n",
       "Sci-Fi                  int64\n",
       "Romance                 int64\n",
       "Drama                   int64\n",
       "Family                  int64\n",
       "Crime                   int64\n",
       "Adventure               int64\n",
       "War                     int64\n",
       "Mystery                 int64\n",
       "Sport                   int64\n",
       "Horror                  int64\n",
       "Animation               int64\n",
       "Music                   int64\n",
       "History                 int64\n",
       "Action                  int64\n",
       "Western                 int64\n",
       "Musical                 int64\n",
       "Biography               int64\n",
       "rating2                 int64\n",
       "dtype: object"
      ]
     },
     "execution_count": 214,
     "metadata": {},
     "output_type": "execute_result"
    }
   ],
   "source": [
    "movies2.dtypes"
   ]
  },
  {
   "cell_type": "code",
   "execution_count": 18,
   "metadata": {
    "collapsed": true
   },
   "outputs": [],
   "source": [
    "# fit a logistic model, random forest, principal component, k-means, hirerical "
   ]
  },
  {
   "cell_type": "code",
   "execution_count": 215,
   "metadata": {
    "collapsed": false
   },
   "outputs": [],
   "source": [
    "int_movies2=movies2.iloc[:,0:9]"
   ]
  },
  {
   "cell_type": "code",
   "execution_count": 216,
   "metadata": {
    "collapsed": true
   },
   "outputs": [],
   "source": [
    "#int_movies2 = movies2.drop(['title', 'studio_1', 'rating','release_date'], 1)"
   ]
  },
  {
   "cell_type": "code",
   "execution_count": 217,
   "metadata": {
    "collapsed": false
   },
   "outputs": [
    {
     "data": {
      "text/html": [
       "<div>\n",
       "<table border=\"1\" class=\"dataframe\">\n",
       "  <thead>\n",
       "    <tr style=\"text-align: right;\">\n",
       "      <th></th>\n",
       "      <th>audience_freshness</th>\n",
       "      <th>rt_audience_score</th>\n",
       "      <th>rt_freshness</th>\n",
       "      <th>rt_score</th>\n",
       "      <th>2015_inflation</th>\n",
       "      <th>adjusted</th>\n",
       "      <th>imdb_rating</th>\n",
       "      <th>length</th>\n",
       "      <th>rank_in_year</th>\n",
       "    </tr>\n",
       "  </thead>\n",
       "  <tbody>\n",
       "    <tr>\n",
       "      <th>0</th>\n",
       "      <td>89</td>\n",
       "      <td>4.2</td>\n",
       "      <td>90</td>\n",
       "      <td>7.9</td>\n",
       "      <td>-0.26</td>\n",
       "      <td>7.069882e+08</td>\n",
       "      <td>7.7</td>\n",
       "      <td>130</td>\n",
       "      <td>9</td>\n",
       "    </tr>\n",
       "    <tr>\n",
       "      <th>1</th>\n",
       "      <td>86</td>\n",
       "      <td>4.2</td>\n",
       "      <td>72</td>\n",
       "      <td>7.0</td>\n",
       "      <td>-0.26</td>\n",
       "      <td>6.712205e+08</td>\n",
       "      <td>8.7</td>\n",
       "      <td>169</td>\n",
       "      <td>10</td>\n",
       "    </tr>\n",
       "    <tr>\n",
       "      <th>2</th>\n",
       "      <td>73</td>\n",
       "      <td>3.8</td>\n",
       "      <td>79</td>\n",
       "      <td>6.8</td>\n",
       "      <td>2.84</td>\n",
       "      <td>7.681486e+08</td>\n",
       "      <td>7.0</td>\n",
       "      <td>93</td>\n",
       "      <td>8</td>\n",
       "    </tr>\n",
       "    <tr>\n",
       "      <th>3</th>\n",
       "      <td>77</td>\n",
       "      <td>3.9</td>\n",
       "      <td>72</td>\n",
       "      <td>6.7</td>\n",
       "      <td>2.84</td>\n",
       "      <td>7.794708e+08</td>\n",
       "      <td>7.1</td>\n",
       "      <td>136</td>\n",
       "      <td>7</td>\n",
       "    </tr>\n",
       "    <tr>\n",
       "      <th>4</th>\n",
       "      <td>90</td>\n",
       "      <td>4.3</td>\n",
       "      <td>87</td>\n",
       "      <td>8.0</td>\n",
       "      <td>2.84</td>\n",
       "      <td>1.115259e+09</td>\n",
       "      <td>8.5</td>\n",
       "      <td>165</td>\n",
       "      <td>3</td>\n",
       "    </tr>\n",
       "  </tbody>\n",
       "</table>\n",
       "</div>"
      ],
      "text/plain": [
       "   audience_freshness  rt_audience_score  rt_freshness  rt_score  \\\n",
       "0                  89                4.2            90       7.9   \n",
       "1                  86                4.2            72       7.0   \n",
       "2                  73                3.8            79       6.8   \n",
       "3                  77                3.9            72       6.7   \n",
       "4                  90                4.3            87       8.0   \n",
       "\n",
       "   2015_inflation      adjusted  imdb_rating  length  rank_in_year  \n",
       "0           -0.26  7.069882e+08          7.7     130             9  \n",
       "1           -0.26  6.712205e+08          8.7     169            10  \n",
       "2            2.84  7.681486e+08          7.0      93             8  \n",
       "3            2.84  7.794708e+08          7.1     136             7  \n",
       "4            2.84  1.115259e+09          8.5     165             3  "
      ]
     },
     "execution_count": 217,
     "metadata": {},
     "output_type": "execute_result"
    }
   ],
   "source": [
    "int_movies2.head(5)\n"
   ]
  },
  {
   "cell_type": "code",
   "execution_count": 218,
   "metadata": {
    "collapsed": true
   },
   "outputs": [],
   "source": [
    "from sklearn.cluster import KMeans\n",
    "kmeans = KMeans()"
   ]
  },
  {
   "cell_type": "code",
   "execution_count": 219,
   "metadata": {
    "collapsed": false
   },
   "outputs": [
    {
     "data": {
      "text/plain": [
       "KMeans(copy_x=True, init='k-means++', max_iter=300, n_clusters=3, n_init=10,\n",
       "    n_jobs=1, precompute_distances='auto', random_state=None, tol=0.0001,\n",
       "    verbose=0)"
      ]
     },
     "execution_count": 219,
     "metadata": {},
     "output_type": "execute_result"
    }
   ],
   "source": [
    "kmeans.set_params(n_clusters=3)\n",
    "kmeans.fit(int_movies2)\n"
   ]
  },
  {
   "cell_type": "code",
   "execution_count": 220,
   "metadata": {
    "collapsed": false
   },
   "outputs": [
    {
     "data": {
      "text/plain": [
       "array([[  7.19567901e+01,   3.54814815e+00,   6.78271605e+01,\n",
       "          6.52222222e+00,   4.18483333e+01,   6.53128861e+08,\n",
       "          7.10000000e+00,   1.19216049e+02,   5.11111111e+00],\n",
       "       [  7.10631579e+01,   3.34263158e+00,   6.89421053e+01,\n",
       "          6.32315789e+00,   1.39494526e+02,   2.89088738e+08,\n",
       "          6.87368421e+00,   1.14415789e+02,   6.75263158e+00],\n",
       "       [  7.86000000e+01,   3.81111111e+00,   7.67333333e+01,\n",
       "          7.18444444e+00,   2.59926667e+01,   1.21716998e+09,\n",
       "          7.65111111e+00,   1.40111111e+02,   1.84444444e+00]])"
      ]
     },
     "execution_count": 220,
     "metadata": {},
     "output_type": "execute_result"
    }
   ],
   "source": [
    "kmeans.cluster_centers_\n"
   ]
  },
  {
   "cell_type": "code",
   "execution_count": 221,
   "metadata": {
    "collapsed": false
   },
   "outputs": [
    {
     "data": {
      "text/plain": [
       "array([0, 0, 0, 0, 2, 2, 0, 0, 2, 0, 0, 0, 0, 0, 0, 1, 0, 2, 0, 2, 2, 0, 2,\n",
       "       2, 0, 0, 0, 1, 0, 1, 1, 1, 0, 1, 0, 0, 0, 2, 0, 1, 1, 0, 0, 1, 0, 0,\n",
       "       0, 0, 0, 1, 1, 1, 1, 1, 1, 1, 1, 1, 1, 1, 1, 1, 1, 1, 1, 1, 1, 0, 1,\n",
       "       0, 1, 1, 1, 1, 1, 1, 1, 1, 0, 1, 1, 1, 1, 1, 2, 2, 2, 2, 2, 0, 0, 0,\n",
       "       0, 2, 0, 2, 0, 2, 1, 2, 0, 0, 0, 0, 2, 0, 0, 1, 0, 0, 0, 0, 0, 0, 0,\n",
       "       0, 1, 0, 0, 1, 0, 1, 1, 0, 1, 0, 1, 0, 1, 0, 0, 1, 1, 0, 1, 1, 0, 0,\n",
       "       1, 1, 1, 1, 1, 1, 1, 1, 1, 1, 1, 1, 1, 1, 1, 1, 1, 0, 2, 0, 0, 0, 0,\n",
       "       0, 2, 0, 0, 2, 2, 0, 0, 0, 0, 0, 0, 0, 1, 0, 1, 0, 0, 2, 0, 1, 2, 0,\n",
       "       2, 1, 1, 0, 0, 0, 0, 0, 1, 1, 0, 1, 0, 0, 0, 0, 0, 0, 0, 1, 1, 1, 0,\n",
       "       0, 1, 0, 1, 1, 1, 1, 1, 1, 1, 1, 1, 1, 1, 1, 1, 1, 1, 1, 1, 1, 1, 1,\n",
       "       1, 1, 1, 1, 1, 0, 0, 0, 0, 0, 0, 0, 0, 0, 0, 0, 0, 0, 2, 2, 0, 0, 1,\n",
       "       0, 1, 0, 0, 2, 0, 0, 0, 1, 0, 2, 2, 0, 0, 1, 1, 2, 1, 0, 0, 1, 1, 0,\n",
       "       1, 0, 0, 1, 1, 1, 1, 1, 1, 1, 1, 1, 1, 1, 1, 1, 1, 1, 1, 1, 1, 1, 0,\n",
       "       1, 1, 1, 1, 0, 1, 1, 1, 1, 1, 1, 1, 1, 1, 1, 1, 1, 0, 0, 0, 2, 0, 2,\n",
       "       2, 0, 0, 2, 2, 2, 0, 0, 0, 0, 1, 2, 0, 0, 0, 0, 1, 0, 2, 0, 2, 1, 0,\n",
       "       0, 0, 0, 0, 1, 1, 2, 1, 1, 0, 0, 1, 2, 2, 1, 0, 1, 1, 1, 0, 1, 1, 1,\n",
       "       1, 1, 1, 1, 1, 1, 1, 1, 1, 1, 0, 0, 1, 1, 1, 1, 1, 1, 1, 1, 1, 0, 1,\n",
       "       1, 1, 0, 2, 1, 0], dtype=int32)"
      ]
     },
     "execution_count": 221,
     "metadata": {},
     "output_type": "execute_result"
    }
   ],
   "source": [
    "kmeans.labels_"
   ]
  },
  {
   "cell_type": "code",
   "execution_count": 222,
   "metadata": {
    "collapsed": false
   },
   "outputs": [
    {
     "data": {
      "image/png": "[encoded data removed]",
      "text/plain": [
       "<matplotlib.figure.Figure at 0x11aae05d0>"
      ]
     },
     "metadata": {},
     "output_type": "display_data"
    }
   ],
   "source": [
    "plt.scatter(int_movies2.iloc[:, 0], int_movies2.iloc[:, 5], c = kmeans.labels_, alpha=0.8)\n",
    "plt.scatter(kmeans.cluster_centers_[:, 0], kmeans.cluster_centers_[:, 5], marker = \"+\", s = 1000, c = [0, 1, 2])\n",
    "plt.xlabel('Audience Freshness')\n",
    "plt.ylabel('Adjusted Gross')\n",
    "plt.show()"
   ]
  },
  {
   "cell_type": "code",
   "execution_count": 223,
   "metadata": {
    "collapsed": false
   },
   "outputs": [
    {
     "data": {
      "image/png": "[encoded data removed]",
      "text/plain": [
       "<matplotlib.figure.Figure at 0x11cd8aa50>"
      ]
     },
     "metadata": {},
     "output_type": "display_data"
    }
   ],
   "source": [
    "plt.scatter(int_movies2.iloc[:, 7], int_movies2.iloc[:, 5], c = kmeans.labels_, alpha=0.8)\n",
    "plt.scatter(kmeans.cluster_centers_[:, 7], kmeans.cluster_centers_[:, 5], marker = \"+\", s = 1000, c = [0, 1, 2])\n",
    "plt.xlabel('Length')\n",
    "plt.ylabel('Adjusted Gross')\n",
    "plt.show()"
   ]
  },
  {
   "cell_type": "code",
   "execution_count": 224,
   "metadata": {
    "collapsed": false
   },
   "outputs": [
    {
     "data": {
      "image/png": "[encoded data removed]",
      "text/plain": [
       "<matplotlib.figure.Figure at 0x11bbfd0d0>"
      ]
     },
     "metadata": {},
     "output_type": "display_data"
    }
   ],
   "source": [
    "plt.scatter(int_movies2.iloc[:, 0], int_movies2.iloc[:, 1], c = kmeans.labels_, alpha=0.8)\n",
    "plt.scatter(kmeans.cluster_centers_[:, 0], kmeans.cluster_centers_[:, 1], marker = \"+\", s = 1000, c = [0, 1, 2])\n",
    "plt.xlabel('Length')\n",
    "plt.ylabel('Rt Audience Score')\n",
    "plt.show()\n"
   ]
  },
  {
   "cell_type": "code",
   "execution_count": 225,
   "metadata": {
    "collapsed": false
   },
   "outputs": [
    {
     "data": {
      "text/plain": [
       "KMeans(copy_x=True, init='k-means++', max_iter=300, n_clusters=2, n_init=10,\n",
       "    n_jobs=1, precompute_distances='auto', random_state=None, tol=0.0001,\n",
       "    verbose=0)"
      ]
     },
     "execution_count": 225,
     "metadata": {},
     "output_type": "execute_result"
    }
   ],
   "source": [
    "kmeans.set_params(n_clusters=2)\n",
    "kmeans.fit(int_movies2)"
   ]
  },
  {
   "cell_type": "code",
   "execution_count": 226,
   "metadata": {
    "collapsed": false
   },
   "outputs": [
    {
     "data": {
      "text/plain": [
       "array([[  7.55862069e+01,   3.72155172e+00,   7.13879310e+01,\n",
       "          6.78362069e+00,   2.61939655e+01,   9.45296434e+08,\n",
       "          7.31465517e+00,   1.29706897e+02,   3.42241379e+00],\n",
       "       [  7.09181495e+01,   3.37971530e+00,   6.85373665e+01,\n",
       "          6.38576512e+00,   1.11795587e+02,   3.76697503e+08,\n",
       "          6.94661922e+00,   1.14985765e+02,   6.39501779e+00]])"
      ]
     },
     "execution_count": 226,
     "metadata": {},
     "output_type": "execute_result"
    }
   ],
   "source": [
    "kmeans.cluster_centers_"
   ]
  },
  {
   "cell_type": "code",
   "execution_count": 227,
   "metadata": {
    "collapsed": false
   },
   "outputs": [
    {
     "data": {
      "text/plain": [
       "array([0, 0, 0, 0, 0, 0, 1, 0, 0, 0, 1, 1, 0, 1, 1, 1, 1, 0, 0, 0, 0, 1, 0,\n",
       "       0, 1, 1, 1, 1, 1, 1, 1, 1, 1, 1, 1, 1, 1, 0, 1, 1, 1, 1, 1, 1, 0, 0,\n",
       "       0, 1, 1, 1, 1, 1, 1, 1, 1, 1, 1, 1, 1, 1, 1, 1, 1, 1, 1, 1, 1, 0, 1,\n",
       "       1, 1, 1, 1, 1, 1, 1, 1, 1, 1, 1, 1, 1, 1, 1, 0, 0, 0, 0, 0, 1, 0, 1,\n",
       "       0, 0, 0, 0, 1, 0, 1, 0, 0, 1, 0, 1, 0, 0, 0, 1, 1, 1, 1, 1, 1, 0, 1,\n",
       "       0, 1, 0, 0, 1, 1, 1, 1, 1, 1, 1, 1, 0, 1, 1, 1, 1, 1, 0, 1, 1, 0, 1,\n",
       "       1, 1, 1, 1, 1, 1, 1, 1, 1, 1, 1, 1, 1, 1, 1, 1, 1, 0, 0, 0, 0, 1, 0,\n",
       "       1, 0, 0, 0, 0, 0, 0, 0, 0, 0, 1, 1, 0, 1, 0, 1, 0, 1, 0, 1, 1, 0, 1,\n",
       "       0, 1, 1, 1, 1, 1, 0, 1, 1, 1, 0, 1, 0, 1, 1, 0, 1, 1, 1, 1, 1, 1, 1,\n",
       "       0, 1, 0, 1, 1, 1, 1, 1, 1, 1, 1, 1, 1, 1, 1, 1, 1, 1, 1, 1, 1, 1, 1,\n",
       "       1, 1, 1, 1, 1, 0, 0, 0, 0, 0, 0, 1, 0, 1, 1, 1, 0, 1, 0, 0, 0, 0, 1,\n",
       "       0, 1, 0, 1, 0, 1, 1, 1, 1, 1, 0, 0, 1, 1, 1, 1, 0, 1, 0, 1, 1, 1, 0,\n",
       "       1, 1, 0, 1, 1, 1, 1, 1, 1, 1, 1, 1, 1, 1, 1, 1, 1, 1, 1, 1, 1, 1, 1,\n",
       "       1, 1, 1, 1, 1, 1, 1, 1, 1, 1, 1, 1, 1, 1, 1, 1, 1, 1, 0, 0, 0, 0, 0,\n",
       "       0, 1, 1, 0, 0, 0, 0, 0, 0, 0, 1, 0, 0, 0, 1, 1, 1, 1, 0, 0, 0, 1, 1,\n",
       "       1, 1, 1, 1, 1, 1, 0, 1, 1, 1, 1, 1, 0, 0, 1, 1, 1, 1, 1, 0, 1, 1, 1,\n",
       "       1, 1, 1, 1, 1, 1, 1, 1, 1, 1, 1, 1, 1, 1, 1, 1, 1, 1, 1, 1, 1, 1, 1,\n",
       "       1, 1, 1, 0, 1, 1], dtype=int32)"
      ]
     },
     "execution_count": 227,
     "metadata": {},
     "output_type": "execute_result"
    }
   ],
   "source": [
    "kmeans.labels_"
   ]
  },
  {
   "cell_type": "code",
   "execution_count": null,
   "metadata": {
    "collapsed": true
   },
   "outputs": [],
   "source": []
  },
  {
   "cell_type": "code",
   "execution_count": 228,
   "metadata": {
    "collapsed": false
   },
   "outputs": [
    {
     "data": {
      "image/png": "[encoded data removed]",
      "text/plain": [
       "<matplotlib.figure.Figure at 0x11c2ca710>"
      ]
     },
     "metadata": {},
     "output_type": "display_data"
    }
   ],
   "source": [
    "plt.scatter(int_movies2.iloc[:, 4], int_movies2.iloc[:, 6], c = kmeans.labels_, alpha=0.8)\n",
    "plt.scatter(kmeans.cluster_centers_[:, 4], kmeans.cluster_centers_[:, 6], marker = \"+\", s = 1000, c = [0, 1])\n",
    "plt.xlabel('2015_inflation')\n",
    "plt.ylabel('imdb_rating')\n",
    "plt.show()"
   ]
  },
  {
   "cell_type": "code",
   "execution_count": 181,
   "metadata": {
    "collapsed": false
   },
   "outputs": [
    {
     "data": {
      "image/png": "[encoded data removed]",
      "text/plain": [
       "<matplotlib.figure.Figure at 0x11c7a8310>"
      ]
     },
     "metadata": {},
     "output_type": "display_data"
    }
   ],
   "source": [
    "plt.scatter(int_movies2.iloc[:, 5], int_movies2.iloc[:, 6], c = kmeans.labels_, alpha=0.8)\n",
    "plt.scatter(kmeans.cluster_centers_[:, 5], kmeans.cluster_centers_[:, 6], marker = \"+\", s = 1000, c = [0, 1])\n",
    "plt.xlabel('Adjusted Gross')\n",
    "plt.ylabel('IMDb Rating')\n",
    "plt.show()"
   ]
  },
  {
   "cell_type": "code",
   "execution_count": null,
   "metadata": {
    "collapsed": false
   },
   "outputs": [],
   "source": []
  },
  {
   "cell_type": "code",
   "execution_count": 184,
   "metadata": {
    "collapsed": false
   },
   "outputs": [
    {
     "data": {
      "image/png": "[encoded data removed]",
      "text/plain": [
       "<matplotlib.figure.Figure at 0x11bf87b10>"
      ]
     },
     "metadata": {},
     "output_type": "display_data"
    }
   ],
   "source": [
    "plt.scatter(int_movies2.iloc[:, 2], int_movies2.iloc[:, 5], c = kmeans.labels_, alpha=0.8)\n",
    "plt.scatter(kmeans.cluster_centers_[:, 2], kmeans.cluster_centers_[:, 5], marker = \"+\", s = 1000, c = [0, 1])\n",
    "plt.xlabel('rt_freshness')\n",
    "plt.ylabel('Adjusted Gross')\n",
    "plt.show()"
   ]
  },
  {
   "cell_type": "code",
   "execution_count": 185,
   "metadata": {
    "collapsed": false
   },
   "outputs": [
    {
     "data": {
      "image/png": "[encoded data removed]",
      "text/plain": [
       "<matplotlib.figure.Figure at 0x11c2cfe10>"
      ]
     },
     "metadata": {},
     "output_type": "display_data"
    }
   ],
   "source": [
    "plt.scatter(int_movies2.iloc[:, 2], int_movies2.iloc[:, 3], c = kmeans.labels_, alpha=0.8)\n",
    "plt.scatter(kmeans.cluster_centers_[:, 2], kmeans.cluster_centers_[:, 3], marker = \"+\", s = 1000, c = [0, 1])\n",
    "plt.xlabel('rt_freshness')\n",
    "plt.ylabel('rt_score')\n",
    "plt.show()"
   ]
  },
  {
   "cell_type": "code",
   "execution_count": 189,
   "metadata": {
    "collapsed": false
   },
   "outputs": [
    {
     "data": {
      "image/png": "[encoded data removed]",
      "text/plain": [
       "<matplotlib.figure.Figure at 0x11c9e8350>"
      ]
     },
     "metadata": {},
     "output_type": "display_data"
    }
   ],
   "source": [
    "plt.scatter(int_movies2.iloc[:, 0], int_movies2.iloc[:, 1], c = kmeans.labels_, alpha=0.8)\n",
    "plt.scatter(kmeans.cluster_centers_[:, 0], kmeans.cluster_centers_[:, 1], marker = \"+\", s = 1000, c = [0, 1])\n",
    "plt.xlabel('X')\n",
    "plt.ylabel('Y')\n",
    "plt.show()"
   ]
  },
  {
   "cell_type": "code",
   "execution_count": null,
   "metadata": {
    "collapsed": false
   },
   "outputs": [],
   "source": [
    "#``````````````````````````````````````````````````````````````````````"
   ]
  },
  {
   "cell_type": "code",
   "execution_count": 230,
   "metadata": {
    "collapsed": false
   },
   "outputs": [
    {
     "data": {
      "text/plain": [
       "1    139\n",
       "4    127\n",
       "3     86\n",
       "0     43\n",
       "2      2\n",
       "Name: cluster, dtype: int64"
      ]
     },
     "execution_count": 230,
     "metadata": {},
     "output_type": "execute_result"
    }
   ],
   "source": [
    "from sklearn.cluster import KMeans\n",
    "\n",
    "cluster = KMeans(n_clusters=5)\n",
    "# slice matrix so we only include the 0/1 indicator columns in the clustering\n",
    "int_movies2['cluster'] = cluster.fit_predict(int_movies2[int_movies2.columns[2:]])\n",
    "int_movies2.cluster.value_counts()"
   ]
  },
  {
   "cell_type": "code",
   "execution_count": null,
   "metadata": {
    "collapsed": true
   },
   "outputs": [],
   "source": [
    "%matplotlib inline\n",
    "import matplotlib.pyplot as plt"
   ]
  },
  {
   "cell_type": "code",
   "execution_count": 243,
   "metadata": {
    "collapsed": false
   },
   "outputs": [
    {
     "data": {
      "text/plain": [
       "1    139\n",
       "4    127\n",
       "3     86\n",
       "0     43\n",
       "2      2\n",
       "Name: cluster, dtype: int64"
      ]
     },
     "execution_count": 243,
     "metadata": {},
     "output_type": "execute_result"
    }
   ],
   "source": [
    "int_movies2.cluster.value_counts()"
   ]
  },
  {
   "cell_type": "code",
   "execution_count": 244,
   "metadata": {
    "collapsed": true
   },
   "outputs": [],
   "source": [
    "y=movies2['Oscar']\n",
    "\n",
    "x = movies2.drop(['Oscar','title', 'studio_1', 'rating','release_date'], 1)"
   ]
  },
  {
   "cell_type": "code",
   "execution_count": null,
   "metadata": {
    "collapsed": true
   },
   "outputs": [],
   "source": []
  },
  {
   "cell_type": "code",
   "execution_count": null,
   "metadata": {
    "collapsed": false
   },
   "outputs": [],
   "source": [
    "\n"
   ]
  },
  {
   "cell_type": "code",
   "execution_count": 251,
   "metadata": {
    "collapsed": false
   },
   "outputs": [
    {
     "data": {
      "text/plain": [
       "array(['audience_freshness', 'rt_audience_score', 'rt_freshness',\n",
       "       'rt_score', '2015_inflation', 'adjusted', 'imdb_rating', 'length',\n",
       "       'rank_in_year', 'rating', 'release_date', 'studio_1', 'title',\n",
       "       'year', 'Oscar', 'Thriller', 'Comedy', 'Fantasy', 'Sci-Fi',\n",
       "       'Romance', 'Drama', 'Family', 'Crime', 'Adventure', 'War',\n",
       "       'Mystery', 'Sport', 'Horror', 'Animation', 'Music', 'History',\n",
       "       'Action', 'Western', 'Musical', 'Biography', 'rating2', 'x'], dtype=object)"
      ]
     },
     "execution_count": 251,
     "metadata": {},
     "output_type": "execute_result"
    }
   ],
   "source": [
    "movies2.columns.values "
   ]
  },
  {
   "cell_type": "code",
   "execution_count": 246,
   "metadata": {
    "collapsed": false
   },
   "outputs": [
    {
     "data": {
      "text/html": [
       "<div>\n",
       "<table border=\"1\" class=\"dataframe\">\n",
       "  <thead>\n",
       "    <tr style=\"text-align: right;\">\n",
       "      <th></th>\n",
       "      <th>audience_freshness</th>\n",
       "      <th>rt_audience_score</th>\n",
       "      <th>rt_freshness</th>\n",
       "      <th>rt_score</th>\n",
       "      <th>2015_inflation</th>\n",
       "      <th>adjusted</th>\n",
       "      <th>imdb_rating</th>\n",
       "      <th>length</th>\n",
       "      <th>rank_in_year</th>\n",
       "      <th>rating</th>\n",
       "      <th>...</th>\n",
       "      <th>Sport</th>\n",
       "      <th>Horror</th>\n",
       "      <th>Animation</th>\n",
       "      <th>Music</th>\n",
       "      <th>History</th>\n",
       "      <th>Action</th>\n",
       "      <th>Western</th>\n",
       "      <th>Musical</th>\n",
       "      <th>Biography</th>\n",
       "      <th>rating2</th>\n",
       "    </tr>\n",
       "  </thead>\n",
       "  <tbody>\n",
       "    <tr>\n",
       "      <th>0</th>\n",
       "      <td>89</td>\n",
       "      <td>4.2</td>\n",
       "      <td>90</td>\n",
       "      <td>7.9</td>\n",
       "      <td>-0.26</td>\n",
       "      <td>7.069882e+08</td>\n",
       "      <td>7.7</td>\n",
       "      <td>130</td>\n",
       "      <td>9</td>\n",
       "      <td>PG-13</td>\n",
       "      <td>...</td>\n",
       "      <td>0</td>\n",
       "      <td>0</td>\n",
       "      <td>0</td>\n",
       "      <td>0</td>\n",
       "      <td>0</td>\n",
       "      <td>1</td>\n",
       "      <td>0</td>\n",
       "      <td>0</td>\n",
       "      <td>0</td>\n",
       "      <td>1</td>\n",
       "    </tr>\n",
       "    <tr>\n",
       "      <th>1</th>\n",
       "      <td>86</td>\n",
       "      <td>4.2</td>\n",
       "      <td>72</td>\n",
       "      <td>7.0</td>\n",
       "      <td>-0.26</td>\n",
       "      <td>6.712205e+08</td>\n",
       "      <td>8.7</td>\n",
       "      <td>169</td>\n",
       "      <td>10</td>\n",
       "      <td>PG-13</td>\n",
       "      <td>...</td>\n",
       "      <td>0</td>\n",
       "      <td>0</td>\n",
       "      <td>0</td>\n",
       "      <td>0</td>\n",
       "      <td>0</td>\n",
       "      <td>0</td>\n",
       "      <td>0</td>\n",
       "      <td>0</td>\n",
       "      <td>0</td>\n",
       "      <td>1</td>\n",
       "    </tr>\n",
       "    <tr>\n",
       "      <th>2</th>\n",
       "      <td>73</td>\n",
       "      <td>3.8</td>\n",
       "      <td>79</td>\n",
       "      <td>6.8</td>\n",
       "      <td>2.84</td>\n",
       "      <td>7.681486e+08</td>\n",
       "      <td>7.0</td>\n",
       "      <td>93</td>\n",
       "      <td>8</td>\n",
       "      <td>PG</td>\n",
       "      <td>...</td>\n",
       "      <td>0</td>\n",
       "      <td>0</td>\n",
       "      <td>1</td>\n",
       "      <td>0</td>\n",
       "      <td>0</td>\n",
       "      <td>0</td>\n",
       "      <td>0</td>\n",
       "      <td>0</td>\n",
       "      <td>0</td>\n",
       "      <td>2</td>\n",
       "    </tr>\n",
       "    <tr>\n",
       "      <th>3</th>\n",
       "      <td>77</td>\n",
       "      <td>3.9</td>\n",
       "      <td>72</td>\n",
       "      <td>6.7</td>\n",
       "      <td>2.84</td>\n",
       "      <td>7.794708e+08</td>\n",
       "      <td>7.1</td>\n",
       "      <td>136</td>\n",
       "      <td>7</td>\n",
       "      <td>PG-13</td>\n",
       "      <td>...</td>\n",
       "      <td>0</td>\n",
       "      <td>0</td>\n",
       "      <td>0</td>\n",
       "      <td>0</td>\n",
       "      <td>0</td>\n",
       "      <td>1</td>\n",
       "      <td>0</td>\n",
       "      <td>0</td>\n",
       "      <td>0</td>\n",
       "      <td>1</td>\n",
       "    </tr>\n",
       "    <tr>\n",
       "      <th>4</th>\n",
       "      <td>90</td>\n",
       "      <td>4.3</td>\n",
       "      <td>87</td>\n",
       "      <td>8.0</td>\n",
       "      <td>2.84</td>\n",
       "      <td>1.115259e+09</td>\n",
       "      <td>8.5</td>\n",
       "      <td>165</td>\n",
       "      <td>3</td>\n",
       "      <td>PG-13</td>\n",
       "      <td>...</td>\n",
       "      <td>0</td>\n",
       "      <td>0</td>\n",
       "      <td>0</td>\n",
       "      <td>0</td>\n",
       "      <td>0</td>\n",
       "      <td>1</td>\n",
       "      <td>0</td>\n",
       "      <td>0</td>\n",
       "      <td>0</td>\n",
       "      <td>1</td>\n",
       "    </tr>\n",
       "  </tbody>\n",
       "</table>\n",
       "<p>5 rows × 36 columns</p>\n",
       "</div>"
      ],
      "text/plain": [
       "   audience_freshness  rt_audience_score  rt_freshness  rt_score  \\\n",
       "0                  89                4.2            90       7.9   \n",
       "1                  86                4.2            72       7.0   \n",
       "2                  73                3.8            79       6.8   \n",
       "3                  77                3.9            72       6.7   \n",
       "4                  90                4.3            87       8.0   \n",
       "\n",
       "   2015_inflation      adjusted  imdb_rating  length  rank_in_year rating  \\\n",
       "0           -0.26  7.069882e+08          7.7     130             9  PG-13   \n",
       "1           -0.26  6.712205e+08          8.7     169            10  PG-13   \n",
       "2            2.84  7.681486e+08          7.0      93             8     PG   \n",
       "3            2.84  7.794708e+08          7.1     136             7  PG-13   \n",
       "4            2.84  1.115259e+09          8.5     165             3  PG-13   \n",
       "\n",
       "    ...    Sport Horror Animation  Music  History  Action  Western  Musical  \\\n",
       "0   ...        0      0         0      0        0       1        0        0   \n",
       "1   ...        0      0         0      0        0       0        0        0   \n",
       "2   ...        0      0         1      0        0       0        0        0   \n",
       "3   ...        0      0         0      0        0       1        0        0   \n",
       "4   ...        0      0         0      0        0       1        0        0   \n",
       "\n",
       "   Biography  rating2  \n",
       "0          0        1  \n",
       "1          0        1  \n",
       "2          0        2  \n",
       "3          0        1  \n",
       "4          0        1  \n",
       "\n",
       "[5 rows x 36 columns]"
      ]
     },
     "execution_count": 246,
     "metadata": {},
     "output_type": "execute_result"
    }
   ],
   "source": [
    "movies2.head()"
   ]
  },
  {
   "cell_type": "code",
   "execution_count": 247,
   "metadata": {
    "collapsed": true
   },
   "outputs": [],
   "source": [
    "from sklearn import linear_model\n",
    "logit_1 = linear_model.LogisticRegression()"
   ]
  },
  {
   "cell_type": "code",
   "execution_count": 250,
   "metadata": {
    "collapsed": false
   },
   "outputs": [
    {
     "data": {
      "text/plain": [
       "array(['audience_freshness', 'rt_audience_score', 'rt_freshness',\n",
       "       'rt_score', '2015_inflation', 'adjusted', 'imdb_rating', 'length',\n",
       "       'rank_in_year', 'rating', 'release_date', 'studio_1', 'title',\n",
       "       'year', 'Oscar', 'Thriller', 'Comedy', 'Fantasy', 'Sci-Fi',\n",
       "       'Romance', 'Drama', 'Family', 'Crime', 'Adventure', 'War',\n",
       "       'Mystery', 'Sport', 'Horror', 'Animation', 'Music', 'History',\n",
       "       'Action', 'Western', 'Musical', 'Biography', 'rating2', 'x'], dtype=object)"
      ]
     },
     "execution_count": 250,
     "metadata": {},
     "output_type": "execute_result"
    }
   ],
   "source": [
    "movies2.columns.values "
   ]
  },
  {
   "cell_type": "code",
   "execution_count": null,
   "metadata": {
    "collapsed": false
   },
   "outputs": [],
   "source": []
  },
  {
   "cell_type": "code",
   "execution_count": 98,
   "metadata": {
    "collapsed": false
   },
   "outputs": [],
   "source": [
    "y=movies2['Oscar']\n",
    "\n",
    "x = movies2.drop(['Oscar','title', 'studio_1', 'rating','release_date'], 1)"
   ]
  },
  {
   "cell_type": "code",
   "execution_count": 105,
   "metadata": {
    "collapsed": false
   },
   "outputs": [],
   "source": [
    "#x.iloc[:,:9].columns"
   ]
  },
  {
   "cell_type": "code",
   "execution_count": null,
   "metadata": {
    "collapsed": false
   },
   "outputs": [],
   "source": []
  },
  {
   "cell_type": "code",
   "execution_count": 99,
   "metadata": {
    "collapsed": false
   },
   "outputs": [
    {
     "data": {
      "text/plain": [
       "array(['audience_freshness', 'rt_audience_score', 'rt_freshness',\n",
       "       'rt_score', '2015_inflation', 'adjusted', 'imdb_rating', 'length',\n",
       "       'rank_in_year', 'year', 'Thriller', 'Comedy', 'Fantasy', 'Sci-Fi',\n",
       "       'Romance', 'Drama', 'Family', 'Crime', 'Adventure', 'War',\n",
       "       'Mystery', 'Sport', 'Horror', 'Animation', 'Music', 'History',\n",
       "       'Action', 'Western', 'Musical', 'Biography', 'PG-13', 'PG', 'R', 'G'], dtype=object)"
      ]
     },
     "execution_count": 99,
     "metadata": {},
     "output_type": "execute_result"
    }
   ],
   "source": [
    "x.columns.values "
   ]
  },
  {
   "cell_type": "code",
   "execution_count": 100,
   "metadata": {
    "collapsed": false
   },
   "outputs": [
    {
     "data": {
      "text/plain": [
       "{'C': 1.0,\n",
       " 'class_weight': None,\n",
       " 'dual': False,\n",
       " 'fit_intercept': True,\n",
       " 'intercept_scaling': 1,\n",
       " 'max_iter': 100,\n",
       " 'multi_class': 'ovr',\n",
       " 'n_jobs': 1,\n",
       " 'penalty': 'l2',\n",
       " 'random_state': None,\n",
       " 'solver': 'liblinear',\n",
       " 'tol': 0.0001,\n",
       " 'verbose': 0,\n",
       " 'warm_start': False}"
      ]
     },
     "execution_count": 100,
     "metadata": {},
     "output_type": "execute_result"
    }
   ],
   "source": [
    "logit_1.get_params()"
   ]
  },
  {
   "cell_type": "code",
   "execution_count": null,
   "metadata": {
    "collapsed": true
   },
   "outputs": [],
   "source": [
    "#~~~~~~~~~~~~~~~~~~~~~~~~~~~~~~~~~~~~~~~~~~~~~~\n",
    "# LOGISTIC REGRESSION MODEL"
   ]
  },
  {
   "cell_type": "code",
   "execution_count": 101,
   "metadata": {
    "collapsed": false
   },
   "outputs": [
    {
     "name": "stdout",
     "output_type": "stream",
     "text": [
      "[array([[ -9.74000978e-16,  -5.24114467e-17,  -8.36659117e-16,\n",
      "         -8.38902682e-17,  -1.92009443e-15,  -4.35529268e-09,\n",
      "         -1.02855646e-16,  -1.63875010e-15,  -1.35438516e-16,\n",
      "         -3.34473261e-14,  -3.43354542e-18,  -1.04437998e-17,\n",
      "         -2.84896167e-18,  -3.22544140e-18,   2.04191143e-18,\n",
      "          3.11065310e-18,  -3.23339929e-18,  -3.25705692e-18,\n",
      "         -9.77588431e-18,   5.05892841e-19,  -1.67761724e-18,\n",
      "         -4.34511404e-19,  -1.69987055e-18,  -2.48527954e-18,\n",
      "         -7.51037092e-19,  -4.21027033e-19,  -9.86481123e-18,\n",
      "          1.99863960e-19,  -4.48224856e-19,   1.43782602e-18,\n",
      "         -3.04374227e-18,  -8.63819547e-18,  -3.10175080e-18,\n",
      "         -2.01397057e-18]]), array([ -1.67976591e-17])]\n"
     ]
    }
   ],
   "source": [
    "logit_1.set_params(C=1e4)\n",
    "#logit_1.fit(x.iloc[:,:9], y)\n",
    "logit_1.fit(x, y)\n",
    "print [logit_1.coef_, logit_1.intercept_]"
   ]
  },
  {
   "cell_type": "code",
   "execution_count": 102,
   "metadata": {
    "collapsed": false
   },
   "outputs": [
    {
     "name": "stdout",
     "output_type": "stream",
     "text": [
      "0.909319899244\n"
     ]
    }
   ],
   "source": [
    "print logit_1.score(x, y)"
   ]
  },
  {
   "cell_type": "code",
   "execution_count": 103,
   "metadata": {
    "collapsed": false
   },
   "outputs": [
    {
     "data": {
      "text/plain": [
       "0.09"
      ]
     },
     "execution_count": 103,
     "metadata": {},
     "output_type": "execute_result"
    }
   ],
   "source": [
    "36.0/400"
   ]
  },
  {
   "cell_type": "code",
   "execution_count": 104,
   "metadata": {
    "collapsed": false
   },
   "outputs": [],
   "source": [
    "#pd.crosstab(titanic_train[\"Sex\"], preds.ix[:, \"Survival_prob\"])\n",
    "\n",
    "preds = logit_1.predict(x)"
   ]
  },
  {
   "cell_type": "code",
   "execution_count": 105,
   "metadata": {
    "collapsed": false
   },
   "outputs": [
    {
     "data": {
      "text/html": [
       "<div>\n",
       "<table border=\"1\" class=\"dataframe\">\n",
       "  <thead>\n",
       "    <tr style=\"text-align: right;\">\n",
       "      <th>Oscar</th>\n",
       "      <th>0</th>\n",
       "      <th>1</th>\n",
       "    </tr>\n",
       "    <tr>\n",
       "      <th>row_0</th>\n",
       "      <th></th>\n",
       "      <th></th>\n",
       "    </tr>\n",
       "  </thead>\n",
       "  <tbody>\n",
       "    <tr>\n",
       "      <th>0</th>\n",
       "      <td>361</td>\n",
       "      <td>36</td>\n",
       "    </tr>\n",
       "  </tbody>\n",
       "</table>\n",
       "</div>"
      ],
      "text/plain": [
       "Oscar    0   1\n",
       "row_0         \n",
       "0      361  36"
      ]
     },
     "execution_count": 105,
     "metadata": {},
     "output_type": "execute_result"
    }
   ],
   "source": [
    "pd.crosstab(preds, y)"
   ]
  },
  {
   "cell_type": "code",
   "execution_count": 106,
   "metadata": {
    "collapsed": false
   },
   "outputs": [
    {
     "data": {
      "text/plain": [
       "array([0, 0, 0, 0, 0, 0, 0, 0, 0, 0, 0, 0, 0, 0, 0, 0, 0, 0, 0, 0, 0, 0, 0,\n",
       "       0, 0, 0, 0, 0, 0, 0, 0, 0, 0, 0, 0, 0, 0, 0, 0, 0, 0, 0, 0, 0, 0, 0,\n",
       "       0, 0, 0, 0, 0, 0, 0, 0, 0, 0, 0, 0, 0, 0, 0, 0, 0, 0, 0, 0, 0, 0, 0,\n",
       "       0, 0, 0, 0, 0, 0, 0, 0, 0, 0, 0, 0, 0, 0, 0, 0, 0, 0, 0, 0, 0, 0, 0,\n",
       "       0, 0, 0, 0, 0, 0, 0, 0, 0, 0, 0, 0, 0, 0, 0, 0, 0, 0, 0, 0, 0, 0, 0,\n",
       "       0, 0, 0, 0, 0, 0, 0, 0, 0, 0, 0, 0, 0, 0, 0, 0, 0, 0, 0, 0, 0, 0, 0,\n",
       "       0, 0, 0, 0, 0, 0, 0, 0, 0, 0, 0, 0, 0, 0, 0, 0, 0, 0, 0, 0, 0, 0, 0,\n",
       "       0, 0, 0, 0, 0, 0, 0, 0, 0, 0, 0, 0, 0, 0, 0, 0, 0, 0, 0, 0, 0, 0, 0,\n",
       "       0, 0, 0, 0, 0, 0, 0, 0, 0, 0, 0, 0, 0, 0, 0, 0, 0, 0, 0, 0, 0, 0, 0,\n",
       "       0, 0, 0, 0, 0, 0, 0, 0, 0, 0, 0, 0, 0, 0, 0, 0, 0, 0, 0, 0, 0, 0, 0,\n",
       "       0, 0, 0, 0, 0, 0, 0, 0, 0, 0, 0, 0, 0, 0, 0, 0, 0, 0, 0, 0, 0, 0, 0,\n",
       "       0, 0, 0, 0, 0, 0, 0, 0, 0, 0, 0, 0, 0, 0, 0, 0, 0, 0, 0, 0, 0, 0, 0,\n",
       "       0, 0, 0, 0, 0, 0, 0, 0, 0, 0, 0, 0, 0, 0, 0, 0, 0, 0, 0, 0, 0, 0, 0,\n",
       "       0, 0, 0, 0, 0, 0, 0, 0, 0, 0, 0, 0, 0, 0, 0, 0, 0, 0, 0, 0, 0, 0, 0,\n",
       "       0, 0, 0, 0, 0, 0, 0, 0, 0, 0, 0, 0, 0, 0, 0, 0, 0, 0, 0, 0, 0, 0, 0,\n",
       "       0, 0, 0, 0, 0, 0, 0, 0, 0, 0, 0, 0, 0, 0, 0, 0, 0, 0, 0, 0, 0, 0, 0,\n",
       "       0, 0, 0, 0, 0, 0, 0, 0, 0, 0, 0, 0, 0, 0, 0, 0, 0, 0, 0, 0, 0, 0, 0,\n",
       "       0, 0, 0, 0, 0, 0])"
      ]
     },
     "execution_count": 106,
     "metadata": {},
     "output_type": "execute_result"
    }
   ],
   "source": [
    "preds"
   ]
  },
  {
   "cell_type": "code",
   "execution_count": null,
   "metadata": {
    "collapsed": true
   },
   "outputs": [],
   "source": [
    "#~~~~~~~~~~~~~~~~~~~~~~~~~~~~~~~~~~~~~~~~~~~~~~\n",
    "# SVM MODEL"
   ]
  },
  {
   "cell_type": "code",
   "execution_count": 51,
   "metadata": {
    "collapsed": true
   },
   "outputs": [],
   "source": [
    "from sklearn import svm\n",
    "svm_model = svm.SVC(kernel ='poly', C = 1e5, degree=1)"
   ]
  },
  {
   "cell_type": "code",
   "execution_count": null,
   "metadata": {
    "collapsed": true
   },
   "outputs": [],
   "source": [
    "#svm_model.fit(x, y)"
   ]
  },
  {
   "cell_type": "code",
   "execution_count": null,
   "metadata": {
    "collapsed": true
   },
   "outputs": [],
   "source": [
    "#~~~~~~~~~~~~~~~~~~~~~~~~~~~~~~~~~~~~~~~~~~~~~~\n",
    "# DESCISON TREE MODEL"
   ]
  },
  {
   "cell_type": "code",
   "execution_count": 107,
   "metadata": {
    "collapsed": true
   },
   "outputs": [],
   "source": [
    "from sklearn import tree\n",
    "tree_model = tree.DecisionTreeClassifier()"
   ]
  },
  {
   "cell_type": "code",
   "execution_count": 108,
   "metadata": {
    "collapsed": false
   },
   "outputs": [
    {
     "data": {
      "text/plain": [
       "DecisionTreeClassifier(class_weight=None, criterion='gini', max_depth=None,\n",
       "            max_features=None, max_leaf_nodes=None, min_samples_leaf=1,\n",
       "            min_samples_split=2, min_weight_fraction_leaf=0.0,\n",
       "            presort=False, random_state=None, splitter='best')"
      ]
     },
     "execution_count": 108,
     "metadata": {},
     "output_type": "execute_result"
    }
   ],
   "source": [
    "tree_model.fit(x, y)"
   ]
  },
  {
   "cell_type": "code",
   "execution_count": 109,
   "metadata": {
    "collapsed": false
   },
   "outputs": [
    {
     "data": {
      "text/plain": [
       "1.0"
      ]
     },
     "execution_count": 109,
     "metadata": {},
     "output_type": "execute_result"
    }
   ],
   "source": [
    "tree_model.score(x, y)"
   ]
  },
  {
   "cell_type": "code",
   "execution_count": 110,
   "metadata": {
    "collapsed": true
   },
   "outputs": [],
   "source": [
    "preds_tree = tree_model.predict(x)"
   ]
  },
  {
   "cell_type": "code",
   "execution_count": 111,
   "metadata": {
    "collapsed": false
   },
   "outputs": [
    {
     "data": {
      "text/html": [
       "<div>\n",
       "<table border=\"1\" class=\"dataframe\">\n",
       "  <thead>\n",
       "    <tr style=\"text-align: right;\">\n",
       "      <th>Oscar</th>\n",
       "      <th>0</th>\n",
       "      <th>1</th>\n",
       "    </tr>\n",
       "    <tr>\n",
       "      <th>row_0</th>\n",
       "      <th></th>\n",
       "      <th></th>\n",
       "    </tr>\n",
       "  </thead>\n",
       "  <tbody>\n",
       "    <tr>\n",
       "      <th>0</th>\n",
       "      <td>361</td>\n",
       "      <td>0</td>\n",
       "    </tr>\n",
       "    <tr>\n",
       "      <th>1</th>\n",
       "      <td>0</td>\n",
       "      <td>36</td>\n",
       "    </tr>\n",
       "  </tbody>\n",
       "</table>\n",
       "</div>"
      ],
      "text/plain": [
       "Oscar    0   1\n",
       "row_0         \n",
       "0      361   0\n",
       "1        0  36"
      ]
     },
     "execution_count": 111,
     "metadata": {},
     "output_type": "execute_result"
    }
   ],
   "source": [
    "pd.crosstab(preds_tree, y)"
   ]
  },
  {
   "cell_type": "code",
   "execution_count": null,
   "metadata": {
    "collapsed": true
   },
   "outputs": [],
   "source": [
    "#~~~~~~~~~~~~~~~~~~~~~~~~~~~~~~~~~~~~~~~~~~~~~~\n",
    "# RANDOM FOREST MODEL"
   ]
  },
  {
   "cell_type": "code",
   "execution_count": 112,
   "metadata": {
    "collapsed": true
   },
   "outputs": [],
   "source": [
    "from sklearn import ensemble\n",
    "randomForest = ensemble.RandomForestClassifier()"
   ]
  },
  {
   "cell_type": "code",
   "execution_count": 113,
   "metadata": {
    "collapsed": false
   },
   "outputs": [
    {
     "data": {
      "text/plain": [
       "RandomForestClassifier(bootstrap=True, class_weight=None, criterion='gini',\n",
       "            max_depth=None, max_features='auto', max_leaf_nodes=None,\n",
       "            min_samples_leaf=1, min_samples_split=2,\n",
       "            min_weight_fraction_leaf=0.0, n_estimators=10, n_jobs=1,\n",
       "            oob_score=False, random_state=None, verbose=0,\n",
       "            warm_start=False)"
      ]
     },
     "execution_count": 113,
     "metadata": {},
     "output_type": "execute_result"
    }
   ],
   "source": [
    "randomForest.fit(x, y) # fit "
   ]
  },
  {
   "cell_type": "code",
   "execution_count": 114,
   "metadata": {
    "collapsed": false
   },
   "outputs": [
    {
     "data": {
      "text/plain": [
       "0.98992443324937029"
      ]
     },
     "execution_count": 114,
     "metadata": {},
     "output_type": "execute_result"
    }
   ],
   "source": [
    "randomForest.score(x, y) # accuracy"
   ]
  },
  {
   "cell_type": "code",
   "execution_count": 115,
   "metadata": {
    "collapsed": true
   },
   "outputs": [],
   "source": [
    "preds_rf = randomForest.predict(x)"
   ]
  },
  {
   "cell_type": "code",
   "execution_count": 116,
   "metadata": {
    "collapsed": false
   },
   "outputs": [
    {
     "data": {
      "text/html": [
       "<div>\n",
       "<table border=\"1\" class=\"dataframe\">\n",
       "  <thead>\n",
       "    <tr style=\"text-align: right;\">\n",
       "      <th>Oscar</th>\n",
       "      <th>0</th>\n",
       "      <th>1</th>\n",
       "    </tr>\n",
       "    <tr>\n",
       "      <th>row_0</th>\n",
       "      <th></th>\n",
       "      <th></th>\n",
       "    </tr>\n",
       "  </thead>\n",
       "  <tbody>\n",
       "    <tr>\n",
       "      <th>0</th>\n",
       "      <td>361</td>\n",
       "      <td>4</td>\n",
       "    </tr>\n",
       "    <tr>\n",
       "      <th>1</th>\n",
       "      <td>0</td>\n",
       "      <td>32</td>\n",
       "    </tr>\n",
       "  </tbody>\n",
       "</table>\n",
       "</div>"
      ],
      "text/plain": [
       "Oscar    0   1\n",
       "row_0         \n",
       "0      361   4\n",
       "1        0  32"
      ]
     },
     "execution_count": 116,
     "metadata": {},
     "output_type": "execute_result"
    }
   ],
   "source": [
    "pd.crosstab(preds_rf, y)"
   ]
  },
  {
   "cell_type": "code",
   "execution_count": 43,
   "metadata": {
    "collapsed": true
   },
   "outputs": [],
   "source": [
    "# FEATURE IMPORTANCE CHART\n"
   ]
  },
  {
   "cell_type": "code",
   "execution_count": null,
   "metadata": {
    "collapsed": true
   },
   "outputs": [],
   "source": [
    "#~~~~~~~~~~~~~~~~~~~~~~~~~~~~~~~~~~~~~~~~~~~~~~\n",
    "# RIDGE AND LASSO ELASTICNET"
   ]
  },
  {
   "cell_type": "code",
   "execution_count": 44,
   "metadata": {
    "collapsed": false
   },
   "outputs": [
    {
     "data": {
      "text/plain": [
       "ElasticNet(alpha=1, copy_X=True, fit_intercept=True, l1_ratio=0.5,\n",
       "      max_iter=1000, normalize=False, positive=False, precompute=False,\n",
       "      random_state=None, selection='cyclic', tol=0.0001, warm_start=False)"
      ]
     },
     "execution_count": 44,
     "metadata": {},
     "output_type": "execute_result"
    }
   ],
   "source": [
    "from sklearn import linear_model\n",
    "elastic = linear_model.ElasticNet(alpha = 1, l1_ratio = 0.5)\n",
    "elastic.fit(x, y) # fit model"
   ]
  },
  {
   "cell_type": "code",
   "execution_count": 45,
   "metadata": {
    "collapsed": false
   },
   "outputs": [
    {
     "data": {
      "text/plain": [
       "0.10696852788708333"
      ]
     },
     "execution_count": 45,
     "metadata": {},
     "output_type": "execute_result"
    }
   ],
   "source": [
    "elastic.score(x, y) # accuracy"
   ]
  },
  {
   "cell_type": "code",
   "execution_count": 46,
   "metadata": {
    "collapsed": true
   },
   "outputs": [],
   "source": [
    "preds_elastic = elastic.predict(x)"
   ]
  },
  {
   "cell_type": "code",
   "execution_count": 48,
   "metadata": {
    "collapsed": false
   },
   "outputs": [],
   "source": [
    "#pd.crosstab(preds_elastic, y)"
   ]
  },
  {
   "cell_type": "code",
   "execution_count": null,
   "metadata": {
    "collapsed": true
   },
   "outputs": [],
   "source": []
  },
  {
   "cell_type": "code",
   "execution_count": null,
   "metadata": {
    "collapsed": true
   },
   "outputs": [],
   "source": []
  }
 ],
 "metadata": {
  "kernelspec": {
   "display_name": "Python 2",
   "language": "python",
   "name": "python2"
  },
  "language_info": {
   "codemirror_mode": {
    "name": "ipython",
    "version": 2
   },
   "file_extension": ".py",
   "mimetype": "text/x-python",
   "name": "python",
   "nbconvert_exporter": "python",
   "pygments_lexer": "ipython2",
   "version": "2.7.11"
  }
 },
 "nbformat": 4,
 "nbformat_minor": 0
}
